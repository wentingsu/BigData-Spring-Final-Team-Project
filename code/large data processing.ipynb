{
 "cells": [
  {
   "cell_type": "code",
   "execution_count": 1,
   "metadata": {
    "collapsed": false
   },
   "outputs": [],
   "source": [
    "import sys\n",
    "from pyspark import SparkContext, SparkConf\n",
    "import pandas as pd\n",
    "import numpy as np\n",
    "from pandas import Series, DataFrame\n",
    "import matplotlib.pyplot as plt\n",
    "import seaborn as sns"
   ]
  },
  {
   "cell_type": "code",
   "execution_count": 2,
   "metadata": {
    "collapsed": false
   },
   "outputs": [],
   "source": [
    "from scipy import stats, integrate"
   ]
  },
  {
   "cell_type": "code",
   "execution_count": 3,
   "metadata": {
    "collapsed": true
   },
   "outputs": [],
   "source": [
    "from sklearn.preprocessing import Imputer\n",
    "from sklearn.preprocessing import LabelEncoder, OneHotEncoder"
   ]
  },
  {
   "cell_type": "code",
   "execution_count": 5,
   "metadata": {
    "collapsed": true
   },
   "outputs": [],
   "source": [
    "# np.set_printoptions(threshold=np.nan)"
   ]
  },
  {
   "cell_type": "markdown",
   "metadata": {},
   "source": [
    "### Step1: Collect train data a d lable data"
   ]
  },
  {
   "cell_type": "code",
   "execution_count": 4,
   "metadata": {
    "collapsed": false
   },
   "outputs": [],
   "source": [
    "# define the function to get the train data using spark.\n",
    "def getTrainData(path):\n",
    "    train_file = sc.textFile(path)\n",
    "    traindata = train_file.map(lambda line: line.split(\"\\t\")).collect()\n",
    "    X_df = pd.DataFrame(traindata)\n",
    "    return X_df"
   ]
  },
  {
   "cell_type": "code",
   "execution_count": 5,
   "metadata": {
    "collapsed": true
   },
   "outputs": [],
   "source": [
    "# define the function to get the lable data using spark.\n",
    "def getLableData(path):\n",
    "    lable_file = sc.textFile(path)\n",
    "    labeldata = lable_file.map(lambda line: line.split(\" \")).collect()\n",
    "    y_df = pd.DataFrame(labeldata)\n",
    "    return y_df"
   ]
  },
  {
   "cell_type": "code",
   "execution_count": 6,
   "metadata": {
    "collapsed": false
   },
   "outputs": [],
   "source": [
    "# get the large size data and lable\n",
    "# X_df = getTrainData('/Users/wentingsu/Downloads/final/large_data/orange_large_train.data')\n",
    "\n",
    "# get the large size data and lable\n",
    "# y_df = getLableData('/Users/wentingsu/Downloads/final/large_data/orange_large_train_churn.labels.txt')"
   ]
  },
  {
   "cell_type": "code",
   "execution_count": 7,
   "metadata": {
    "collapsed": false
   },
   "outputs": [],
   "source": [
    "# get the large size data and lable\n",
    "X_df = getTrainData('dataset/orange_large_train.data')\n",
    "y_df = getLableData('dataset/orange_large_train_churn.labels.txt')"
   ]
  },
  {
   "cell_type": "markdown",
   "metadata": {},
   "source": [
    "### Step2: Processing Missing Data"
   ]
  },
  {
   "cell_type": "markdown",
   "metadata": {},
   "source": [
    "* 2.1 dealing with String Empty Data"
   ]
  },
  {
   "cell_type": "code",
   "execution_count": 9,
   "metadata": {
    "collapsed": true
   },
   "outputs": [],
   "source": [
    "# define the function to process the string empty\n",
    "def processEmpty(X_df):\n",
    "    # deal with the string empty \n",
    "    X_index = X_df[:1].values.tolist()\n",
    "    X_df2 = X_df.T.set_index(X_index).T.drop(0)\n",
    "    X_df3 = X_df2.apply(lambda x: x.str.strip()).replace('', np.nan)\n",
    "    return X_df3"
   ]
  },
  {
   "cell_type": "code",
   "execution_count": 20,
   "metadata": {
    "collapsed": true
   },
   "outputs": [],
   "source": [
    "X_df3 = processEmpty(X_df)"
   ]
  },
  {
   "cell_type": "code",
   "execution_count": 21,
   "metadata": {
    "collapsed": false
   },
   "outputs": [
    {
     "data": {
      "text/html": [
       "<div>\n",
       "<table border=\"1\" class=\"dataframe\">\n",
       "  <thead>\n",
       "    <tr style=\"text-align: right;\">\n",
       "      <th></th>\n",
       "      <th>Var1</th>\n",
       "      <th>Var2</th>\n",
       "      <th>Var3</th>\n",
       "      <th>Var4</th>\n",
       "      <th>Var5</th>\n",
       "      <th>Var6</th>\n",
       "      <th>Var7</th>\n",
       "      <th>Var8</th>\n",
       "      <th>Var9</th>\n",
       "      <th>Var10</th>\n",
       "      <th>...</th>\n",
       "      <th>Var14991</th>\n",
       "      <th>Var14992</th>\n",
       "      <th>Var14993</th>\n",
       "      <th>Var14994</th>\n",
       "      <th>Var14995</th>\n",
       "      <th>Var14996</th>\n",
       "      <th>Var14997</th>\n",
       "      <th>Var14998</th>\n",
       "      <th>Var14999</th>\n",
       "      <th>Var15000</th>\n",
       "    </tr>\n",
       "  </thead>\n",
       "  <tbody>\n",
       "    <tr>\n",
       "      <th>1</th>\n",
       "      <td>0</td>\n",
       "      <td>0</td>\n",
       "      <td>0</td>\n",
       "      <td>0</td>\n",
       "      <td>0</td>\n",
       "      <td>0</td>\n",
       "      <td>0</td>\n",
       "      <td>0</td>\n",
       "      <td>0</td>\n",
       "      <td>0</td>\n",
       "      <td>...</td>\n",
       "      <td>NaN</td>\n",
       "      <td>NaN</td>\n",
       "      <td>IPyde4c</td>\n",
       "      <td>NaN</td>\n",
       "      <td>KttQ</td>\n",
       "      <td>NBRvrWWx0Z</td>\n",
       "      <td>NaN</td>\n",
       "      <td>NaN</td>\n",
       "      <td>NaN</td>\n",
       "      <td>NaN</td>\n",
       "    </tr>\n",
       "    <tr>\n",
       "      <th>2</th>\n",
       "      <td>0</td>\n",
       "      <td>0</td>\n",
       "      <td>0</td>\n",
       "      <td>0</td>\n",
       "      <td>0</td>\n",
       "      <td>0</td>\n",
       "      <td>0</td>\n",
       "      <td>0</td>\n",
       "      <td>0</td>\n",
       "      <td>0</td>\n",
       "      <td>...</td>\n",
       "      <td>NaN</td>\n",
       "      <td>NaN</td>\n",
       "      <td>tQAVcMq</td>\n",
       "      <td>NaN</td>\n",
       "      <td>KttQ</td>\n",
       "      <td>NBRvrWWx0Z</td>\n",
       "      <td>NaN</td>\n",
       "      <td>NaN</td>\n",
       "      <td>NaN</td>\n",
       "      <td>NaN</td>\n",
       "    </tr>\n",
       "    <tr>\n",
       "      <th>3</th>\n",
       "      <td>0</td>\n",
       "      <td>0</td>\n",
       "      <td>0</td>\n",
       "      <td>0</td>\n",
       "      <td>6</td>\n",
       "      <td>0</td>\n",
       "      <td>0</td>\n",
       "      <td>0</td>\n",
       "      <td>0</td>\n",
       "      <td>0</td>\n",
       "      <td>...</td>\n",
       "      <td>NaN</td>\n",
       "      <td>NaN</td>\n",
       "      <td>mnKkkvG</td>\n",
       "      <td>NaN</td>\n",
       "      <td>KttQ</td>\n",
       "      <td>NBRvrWWx0Z</td>\n",
       "      <td>NaN</td>\n",
       "      <td>NaN</td>\n",
       "      <td>NaN</td>\n",
       "      <td>NaN</td>\n",
       "    </tr>\n",
       "    <tr>\n",
       "      <th>4</th>\n",
       "      <td>0</td>\n",
       "      <td>0</td>\n",
       "      <td>0</td>\n",
       "      <td>0</td>\n",
       "      <td>0</td>\n",
       "      <td>0</td>\n",
       "      <td>0</td>\n",
       "      <td>0</td>\n",
       "      <td>0</td>\n",
       "      <td>0</td>\n",
       "      <td>...</td>\n",
       "      <td>NaN</td>\n",
       "      <td>NaN</td>\n",
       "      <td>ZF0bafC</td>\n",
       "      <td>NaN</td>\n",
       "      <td>KttQ</td>\n",
       "      <td>NBRvrWWx0Z</td>\n",
       "      <td>NaN</td>\n",
       "      <td>NaN</td>\n",
       "      <td>NaN</td>\n",
       "      <td>NaN</td>\n",
       "    </tr>\n",
       "    <tr>\n",
       "      <th>5</th>\n",
       "      <td>0</td>\n",
       "      <td>0</td>\n",
       "      <td>0</td>\n",
       "      <td>0</td>\n",
       "      <td>0</td>\n",
       "      <td>0</td>\n",
       "      <td>0</td>\n",
       "      <td>0</td>\n",
       "      <td>0</td>\n",
       "      <td>0</td>\n",
       "      <td>...</td>\n",
       "      <td>NaN</td>\n",
       "      <td>NaN</td>\n",
       "      <td>z1miBkG</td>\n",
       "      <td>NaN</td>\n",
       "      <td>Q8_a</td>\n",
       "      <td>NaN</td>\n",
       "      <td>NaN</td>\n",
       "      <td>NaN</td>\n",
       "      <td>NaN</td>\n",
       "      <td>NaN</td>\n",
       "    </tr>\n",
       "  </tbody>\n",
       "</table>\n",
       "<p>5 rows × 15000 columns</p>\n",
       "</div>"
      ],
      "text/plain": [
       "  Var1 Var2 Var3 Var4 Var5 Var6 Var7 Var8 Var9 Var10   ...    Var14991  \\\n",
       "1    0    0    0    0    0    0    0    0    0     0   ...         NaN   \n",
       "2    0    0    0    0    0    0    0    0    0     0   ...         NaN   \n",
       "3    0    0    0    0    6    0    0    0    0     0   ...         NaN   \n",
       "4    0    0    0    0    0    0    0    0    0     0   ...         NaN   \n",
       "5    0    0    0    0    0    0    0    0    0     0   ...         NaN   \n",
       "\n",
       "  Var14992 Var14993 Var14994 Var14995    Var14996 Var14997 Var14998 Var14999  \\\n",
       "1      NaN  IPyde4c      NaN     KttQ  NBRvrWWx0Z      NaN      NaN      NaN   \n",
       "2      NaN  tQAVcMq      NaN     KttQ  NBRvrWWx0Z      NaN      NaN      NaN   \n",
       "3      NaN  mnKkkvG      NaN     KttQ  NBRvrWWx0Z      NaN      NaN      NaN   \n",
       "4      NaN  ZF0bafC      NaN     KttQ  NBRvrWWx0Z      NaN      NaN      NaN   \n",
       "5      NaN  z1miBkG      NaN     Q8_a         NaN      NaN      NaN      NaN   \n",
       "\n",
       "  Var15000  \n",
       "1      NaN  \n",
       "2      NaN  \n",
       "3      NaN  \n",
       "4      NaN  \n",
       "5      NaN  \n",
       "\n",
       "[5 rows x 15000 columns]"
      ]
     },
     "execution_count": 21,
     "metadata": {},
     "output_type": "execute_result"
    }
   ],
   "source": [
    "X_df3.head()"
   ]
  },
  {
   "cell_type": "markdown",
   "metadata": {},
   "source": [
    "* 2.2 dealing with Numerical Missing Data"
   ]
  },
  {
   "cell_type": "code",
   "execution_count": 24,
   "metadata": {
    "collapsed": true
   },
   "outputs": [],
   "source": [
    "# Processing missing data of the numerical columns\n",
    "def ProcessMissNum(X_df3):\n",
    "    # extract the numerical colums\n",
    "    X_num_df = X_df3.ix[:, :14740]\n",
    "    # drop the columns that all nan\n",
    "    X_num_df2 = X_num_df.dropna(axis=1, how = 'all')\n",
    "    # Processing missing numerical data\n",
    "    X_num = np.array(X_num_df2)\n",
    "    imputer_num = Imputer(missing_values = 'NaN', strategy = 'median', axis = 0)\n",
    "    imputer_num.fit(X_num)\n",
    "    X_num = imputer_num.transform(X_num)\n",
    "    return X_num"
   ]
  },
  {
   "cell_type": "code",
   "execution_count": 25,
   "metadata": {
    "collapsed": true
   },
   "outputs": [],
   "source": [
    "X_num = ProcessMissNum(X_df3)"
   ]
  },
  {
   "cell_type": "code",
   "execution_count": 26,
   "metadata": {
    "collapsed": false
   },
   "outputs": [
    {
     "data": {
      "text/html": [
       "<div>\n",
       "<table border=\"1\" class=\"dataframe\">\n",
       "  <thead>\n",
       "    <tr style=\"text-align: right;\">\n",
       "      <th></th>\n",
       "      <th>0</th>\n",
       "      <th>1</th>\n",
       "      <th>2</th>\n",
       "      <th>3</th>\n",
       "      <th>4</th>\n",
       "      <th>5</th>\n",
       "      <th>6</th>\n",
       "      <th>7</th>\n",
       "      <th>8</th>\n",
       "      <th>9</th>\n",
       "      <th>...</th>\n",
       "      <th>14691</th>\n",
       "      <th>14692</th>\n",
       "      <th>14693</th>\n",
       "      <th>14694</th>\n",
       "      <th>14695</th>\n",
       "      <th>14696</th>\n",
       "      <th>14697</th>\n",
       "      <th>14698</th>\n",
       "      <th>14699</th>\n",
       "      <th>14700</th>\n",
       "    </tr>\n",
       "  </thead>\n",
       "  <tbody>\n",
       "    <tr>\n",
       "      <th>0</th>\n",
       "      <td>0.0</td>\n",
       "      <td>0.0</td>\n",
       "      <td>0.0</td>\n",
       "      <td>0.0</td>\n",
       "      <td>0.0</td>\n",
       "      <td>0.0</td>\n",
       "      <td>0.0</td>\n",
       "      <td>0.0</td>\n",
       "      <td>0.0</td>\n",
       "      <td>0.0</td>\n",
       "      <td>...</td>\n",
       "      <td>8632.0</td>\n",
       "      <td>22572180.0</td>\n",
       "      <td>0.0</td>\n",
       "      <td>0.0</td>\n",
       "      <td>0.0</td>\n",
       "      <td>0.0</td>\n",
       "      <td>0.0</td>\n",
       "      <td>0.0</td>\n",
       "      <td>0.0</td>\n",
       "      <td>0.0</td>\n",
       "    </tr>\n",
       "    <tr>\n",
       "      <th>1</th>\n",
       "      <td>0.0</td>\n",
       "      <td>0.0</td>\n",
       "      <td>0.0</td>\n",
       "      <td>0.0</td>\n",
       "      <td>0.0</td>\n",
       "      <td>0.0</td>\n",
       "      <td>0.0</td>\n",
       "      <td>0.0</td>\n",
       "      <td>0.0</td>\n",
       "      <td>0.0</td>\n",
       "      <td>...</td>\n",
       "      <td>0.0</td>\n",
       "      <td>32081400.0</td>\n",
       "      <td>0.0</td>\n",
       "      <td>0.0</td>\n",
       "      <td>0.0</td>\n",
       "      <td>0.0</td>\n",
       "      <td>12.0</td>\n",
       "      <td>0.0</td>\n",
       "      <td>0.0</td>\n",
       "      <td>0.0</td>\n",
       "    </tr>\n",
       "    <tr>\n",
       "      <th>2</th>\n",
       "      <td>0.0</td>\n",
       "      <td>0.0</td>\n",
       "      <td>0.0</td>\n",
       "      <td>0.0</td>\n",
       "      <td>6.0</td>\n",
       "      <td>0.0</td>\n",
       "      <td>0.0</td>\n",
       "      <td>0.0</td>\n",
       "      <td>0.0</td>\n",
       "      <td>0.0</td>\n",
       "      <td>...</td>\n",
       "      <td>0.0</td>\n",
       "      <td>8087100.0</td>\n",
       "      <td>0.0</td>\n",
       "      <td>0.0</td>\n",
       "      <td>0.0</td>\n",
       "      <td>0.0</td>\n",
       "      <td>0.0</td>\n",
       "      <td>0.0</td>\n",
       "      <td>0.0</td>\n",
       "      <td>0.0</td>\n",
       "    </tr>\n",
       "    <tr>\n",
       "      <th>3</th>\n",
       "      <td>0.0</td>\n",
       "      <td>0.0</td>\n",
       "      <td>0.0</td>\n",
       "      <td>0.0</td>\n",
       "      <td>0.0</td>\n",
       "      <td>0.0</td>\n",
       "      <td>0.0</td>\n",
       "      <td>0.0</td>\n",
       "      <td>0.0</td>\n",
       "      <td>0.0</td>\n",
       "      <td>...</td>\n",
       "      <td>0.0</td>\n",
       "      <td>3976080.0</td>\n",
       "      <td>0.0</td>\n",
       "      <td>0.0</td>\n",
       "      <td>0.0</td>\n",
       "      <td>0.0</td>\n",
       "      <td>0.0</td>\n",
       "      <td>0.0</td>\n",
       "      <td>0.0</td>\n",
       "      <td>0.0</td>\n",
       "    </tr>\n",
       "    <tr>\n",
       "      <th>4</th>\n",
       "      <td>0.0</td>\n",
       "      <td>0.0</td>\n",
       "      <td>0.0</td>\n",
       "      <td>0.0</td>\n",
       "      <td>0.0</td>\n",
       "      <td>0.0</td>\n",
       "      <td>0.0</td>\n",
       "      <td>0.0</td>\n",
       "      <td>0.0</td>\n",
       "      <td>0.0</td>\n",
       "      <td>...</td>\n",
       "      <td>0.0</td>\n",
       "      <td>34410600.0</td>\n",
       "      <td>0.0</td>\n",
       "      <td>0.0</td>\n",
       "      <td>0.0</td>\n",
       "      <td>0.0</td>\n",
       "      <td>0.0</td>\n",
       "      <td>0.0</td>\n",
       "      <td>0.0</td>\n",
       "      <td>0.0</td>\n",
       "    </tr>\n",
       "  </tbody>\n",
       "</table>\n",
       "<p>5 rows × 14701 columns</p>\n",
       "</div>"
      ],
      "text/plain": [
       "   0      1      2      3      4      5      6      7      8      9      \\\n",
       "0    0.0    0.0    0.0    0.0    0.0    0.0    0.0    0.0    0.0    0.0   \n",
       "1    0.0    0.0    0.0    0.0    0.0    0.0    0.0    0.0    0.0    0.0   \n",
       "2    0.0    0.0    0.0    0.0    6.0    0.0    0.0    0.0    0.0    0.0   \n",
       "3    0.0    0.0    0.0    0.0    0.0    0.0    0.0    0.0    0.0    0.0   \n",
       "4    0.0    0.0    0.0    0.0    0.0    0.0    0.0    0.0    0.0    0.0   \n",
       "\n",
       "   ...     14691       14692  14693  14694  14695  14696  14697  14698  14699  \\\n",
       "0  ...    8632.0  22572180.0    0.0    0.0    0.0    0.0    0.0    0.0    0.0   \n",
       "1  ...       0.0  32081400.0    0.0    0.0    0.0    0.0   12.0    0.0    0.0   \n",
       "2  ...       0.0   8087100.0    0.0    0.0    0.0    0.0    0.0    0.0    0.0   \n",
       "3  ...       0.0   3976080.0    0.0    0.0    0.0    0.0    0.0    0.0    0.0   \n",
       "4  ...       0.0  34410600.0    0.0    0.0    0.0    0.0    0.0    0.0    0.0   \n",
       "\n",
       "   14700  \n",
       "0    0.0  \n",
       "1    0.0  \n",
       "2    0.0  \n",
       "3    0.0  \n",
       "4    0.0  \n",
       "\n",
       "[5 rows x 14701 columns]"
      ]
     },
     "execution_count": 26,
     "metadata": {},
     "output_type": "execute_result"
    }
   ],
   "source": [
    "pd.DataFrame(X_num).head()"
   ]
  },
  {
   "cell_type": "markdown",
   "metadata": {},
   "source": [
    "* 2.3 Encoding categorical data"
   ]
  },
  {
   "cell_type": "code",
   "execution_count": 27,
   "metadata": {
    "collapsed": true
   },
   "outputs": [],
   "source": [
    "from ipykernel import kernelapp as app"
   ]
  },
  {
   "cell_type": "code",
   "execution_count": 28,
   "metadata": {
    "collapsed": true
   },
   "outputs": [],
   "source": [
    "# Encoding categorical data\n",
    "def ProcessMissCat(X_df3):\n",
    "    # extract the categorical colums\n",
    "    X_cat_df = X_df3.ix[:,14740:]\n",
    "    # drop the columns that all nan\n",
    "    X_cat_df2 = X_cat_df.dropna(axis=1, how = 'all')\n",
    "    return X_cat_df2\n",
    "\n",
    "# call the function\n",
    "X_cat_df2 = ProcessMissCat(X_df3)\n",
    "\n",
    "# Encoding categorical data\n",
    "cols = X_cat_df2.columns\n",
    "for col in cols:\n",
    "    X_cat_df2[col] = X_cat_df2[col].astype('category')\n",
    "X_cat_df2[cols] = X_cat_df2[cols].apply(lambda x: x.cat.codes)"
   ]
  },
  {
   "cell_type": "code",
   "execution_count": 29,
   "metadata": {
    "collapsed": false
   },
   "outputs": [
    {
     "data": {
      "text/html": [
       "<div>\n",
       "<table border=\"1\" class=\"dataframe\">\n",
       "  <thead>\n",
       "    <tr style=\"text-align: right;\">\n",
       "      <th></th>\n",
       "      <th>Var14741</th>\n",
       "      <th>Var14742</th>\n",
       "      <th>Var14743</th>\n",
       "      <th>Var14745</th>\n",
       "      <th>Var14746</th>\n",
       "      <th>Var14747</th>\n",
       "      <th>Var14748</th>\n",
       "      <th>Var14749</th>\n",
       "      <th>Var14750</th>\n",
       "      <th>Var14751</th>\n",
       "      <th>...</th>\n",
       "      <th>Var14983</th>\n",
       "      <th>Var14984</th>\n",
       "      <th>Var14989</th>\n",
       "      <th>Var14990</th>\n",
       "      <th>Var14993</th>\n",
       "      <th>Var14995</th>\n",
       "      <th>Var14996</th>\n",
       "      <th>Var14997</th>\n",
       "      <th>Var14998</th>\n",
       "      <th>Var14999</th>\n",
       "    </tr>\n",
       "  </thead>\n",
       "  <tbody>\n",
       "    <tr>\n",
       "      <th>1</th>\n",
       "      <td>0</td>\n",
       "      <td>-1</td>\n",
       "      <td>-1</td>\n",
       "      <td>0</td>\n",
       "      <td>-1</td>\n",
       "      <td>1</td>\n",
       "      <td>-1</td>\n",
       "      <td>-1</td>\n",
       "      <td>-1</td>\n",
       "      <td>-1</td>\n",
       "      <td>...</td>\n",
       "      <td>2</td>\n",
       "      <td>-1</td>\n",
       "      <td>1</td>\n",
       "      <td>0</td>\n",
       "      <td>608</td>\n",
       "      <td>0</td>\n",
       "      <td>0</td>\n",
       "      <td>-1</td>\n",
       "      <td>-1</td>\n",
       "      <td>-1</td>\n",
       "    </tr>\n",
       "    <tr>\n",
       "      <th>2</th>\n",
       "      <td>0</td>\n",
       "      <td>-1</td>\n",
       "      <td>-1</td>\n",
       "      <td>-1</td>\n",
       "      <td>8</td>\n",
       "      <td>1</td>\n",
       "      <td>1</td>\n",
       "      <td>-1</td>\n",
       "      <td>-1</td>\n",
       "      <td>-1</td>\n",
       "      <td>...</td>\n",
       "      <td>2</td>\n",
       "      <td>-1</td>\n",
       "      <td>1</td>\n",
       "      <td>12</td>\n",
       "      <td>1893</td>\n",
       "      <td>0</td>\n",
       "      <td>0</td>\n",
       "      <td>-1</td>\n",
       "      <td>-1</td>\n",
       "      <td>-1</td>\n",
       "    </tr>\n",
       "    <tr>\n",
       "      <th>3</th>\n",
       "      <td>0</td>\n",
       "      <td>-1</td>\n",
       "      <td>-1</td>\n",
       "      <td>0</td>\n",
       "      <td>-1</td>\n",
       "      <td>1</td>\n",
       "      <td>-1</td>\n",
       "      <td>-1</td>\n",
       "      <td>3</td>\n",
       "      <td>0</td>\n",
       "      <td>...</td>\n",
       "      <td>2</td>\n",
       "      <td>0</td>\n",
       "      <td>1</td>\n",
       "      <td>5</td>\n",
       "      <td>1653</td>\n",
       "      <td>0</td>\n",
       "      <td>0</td>\n",
       "      <td>-1</td>\n",
       "      <td>-1</td>\n",
       "      <td>-1</td>\n",
       "    </tr>\n",
       "    <tr>\n",
       "      <th>4</th>\n",
       "      <td>-1</td>\n",
       "      <td>-1</td>\n",
       "      <td>-1</td>\n",
       "      <td>-1</td>\n",
       "      <td>-1</td>\n",
       "      <td>-1</td>\n",
       "      <td>-1</td>\n",
       "      <td>-1</td>\n",
       "      <td>-1</td>\n",
       "      <td>-1</td>\n",
       "      <td>...</td>\n",
       "      <td>-1</td>\n",
       "      <td>0</td>\n",
       "      <td>1</td>\n",
       "      <td>7</td>\n",
       "      <td>1135</td>\n",
       "      <td>0</td>\n",
       "      <td>0</td>\n",
       "      <td>-1</td>\n",
       "      <td>-1</td>\n",
       "      <td>-1</td>\n",
       "    </tr>\n",
       "    <tr>\n",
       "      <th>5</th>\n",
       "      <td>-1</td>\n",
       "      <td>-1</td>\n",
       "      <td>-1</td>\n",
       "      <td>-1</td>\n",
       "      <td>-1</td>\n",
       "      <td>-1</td>\n",
       "      <td>-1</td>\n",
       "      <td>-1</td>\n",
       "      <td>-1</td>\n",
       "      <td>-1</td>\n",
       "      <td>...</td>\n",
       "      <td>-1</td>\n",
       "      <td>0</td>\n",
       "      <td>1</td>\n",
       "      <td>0</td>\n",
       "      <td>2047</td>\n",
       "      <td>1</td>\n",
       "      <td>-1</td>\n",
       "      <td>-1</td>\n",
       "      <td>-1</td>\n",
       "      <td>-1</td>\n",
       "    </tr>\n",
       "  </tbody>\n",
       "</table>\n",
       "<p>5 rows × 189 columns</p>\n",
       "</div>"
      ],
      "text/plain": [
       "   Var14741  Var14742  Var14743  Var14745  Var14746  Var14747  Var14748  \\\n",
       "1         0        -1        -1         0        -1         1        -1   \n",
       "2         0        -1        -1        -1         8         1         1   \n",
       "3         0        -1        -1         0        -1         1        -1   \n",
       "4        -1        -1        -1        -1        -1        -1        -1   \n",
       "5        -1        -1        -1        -1        -1        -1        -1   \n",
       "\n",
       "   Var14749  Var14750  Var14751    ...     Var14983  Var14984  Var14989  \\\n",
       "1        -1        -1        -1    ...            2        -1         1   \n",
       "2        -1        -1        -1    ...            2        -1         1   \n",
       "3        -1         3         0    ...            2         0         1   \n",
       "4        -1        -1        -1    ...           -1         0         1   \n",
       "5        -1        -1        -1    ...           -1         0         1   \n",
       "\n",
       "   Var14990  Var14993  Var14995  Var14996  Var14997  Var14998  Var14999  \n",
       "1         0       608         0         0        -1        -1        -1  \n",
       "2        12      1893         0         0        -1        -1        -1  \n",
       "3         5      1653         0         0        -1        -1        -1  \n",
       "4         7      1135         0         0        -1        -1        -1  \n",
       "5         0      2047         1        -1        -1        -1        -1  \n",
       "\n",
       "[5 rows x 189 columns]"
      ]
     },
     "execution_count": 29,
     "metadata": {},
     "output_type": "execute_result"
    }
   ],
   "source": [
    "X_cat_df2.head()"
   ]
  },
  {
   "cell_type": "markdown",
   "metadata": {},
   "source": [
    "* 2.4 Combine the numerical data and categorical data."
   ]
  },
  {
   "cell_type": "code",
   "execution_count": 30,
   "metadata": {
    "collapsed": true
   },
   "outputs": [],
   "source": [
    "# Comnime the numerical columns and categorical columns\n",
    "X_df_combine = pd.concat([pd.DataFrame(X_num), pd.DataFrame(np.array(X_cat_df2))], axis=1)"
   ]
  },
  {
   "cell_type": "code",
   "execution_count": 31,
   "metadata": {
    "collapsed": true
   },
   "outputs": [],
   "source": [
    "X = X_df_combine.iloc[:, :].values"
   ]
  },
  {
   "cell_type": "code",
   "execution_count": 32,
   "metadata": {
    "collapsed": false
   },
   "outputs": [
    {
     "data": {
      "text/html": [
       "<div>\n",
       "<table border=\"1\" class=\"dataframe\">\n",
       "  <thead>\n",
       "    <tr style=\"text-align: right;\">\n",
       "      <th></th>\n",
       "      <th>0</th>\n",
       "      <th>1</th>\n",
       "      <th>2</th>\n",
       "      <th>3</th>\n",
       "      <th>4</th>\n",
       "      <th>5</th>\n",
       "      <th>6</th>\n",
       "      <th>7</th>\n",
       "      <th>8</th>\n",
       "      <th>9</th>\n",
       "      <th>...</th>\n",
       "      <th>179</th>\n",
       "      <th>180</th>\n",
       "      <th>181</th>\n",
       "      <th>182</th>\n",
       "      <th>183</th>\n",
       "      <th>184</th>\n",
       "      <th>185</th>\n",
       "      <th>186</th>\n",
       "      <th>187</th>\n",
       "      <th>188</th>\n",
       "    </tr>\n",
       "  </thead>\n",
       "  <tbody>\n",
       "    <tr>\n",
       "      <th>0</th>\n",
       "      <td>0.0</td>\n",
       "      <td>0.0</td>\n",
       "      <td>0.0</td>\n",
       "      <td>0.0</td>\n",
       "      <td>0.0</td>\n",
       "      <td>0.0</td>\n",
       "      <td>0.0</td>\n",
       "      <td>0.0</td>\n",
       "      <td>0.0</td>\n",
       "      <td>0.0</td>\n",
       "      <td>...</td>\n",
       "      <td>2</td>\n",
       "      <td>-1</td>\n",
       "      <td>1</td>\n",
       "      <td>0</td>\n",
       "      <td>608</td>\n",
       "      <td>0</td>\n",
       "      <td>0</td>\n",
       "      <td>-1</td>\n",
       "      <td>-1</td>\n",
       "      <td>-1</td>\n",
       "    </tr>\n",
       "    <tr>\n",
       "      <th>1</th>\n",
       "      <td>0.0</td>\n",
       "      <td>0.0</td>\n",
       "      <td>0.0</td>\n",
       "      <td>0.0</td>\n",
       "      <td>0.0</td>\n",
       "      <td>0.0</td>\n",
       "      <td>0.0</td>\n",
       "      <td>0.0</td>\n",
       "      <td>0.0</td>\n",
       "      <td>0.0</td>\n",
       "      <td>...</td>\n",
       "      <td>2</td>\n",
       "      <td>-1</td>\n",
       "      <td>1</td>\n",
       "      <td>12</td>\n",
       "      <td>1893</td>\n",
       "      <td>0</td>\n",
       "      <td>0</td>\n",
       "      <td>-1</td>\n",
       "      <td>-1</td>\n",
       "      <td>-1</td>\n",
       "    </tr>\n",
       "    <tr>\n",
       "      <th>2</th>\n",
       "      <td>0.0</td>\n",
       "      <td>0.0</td>\n",
       "      <td>0.0</td>\n",
       "      <td>0.0</td>\n",
       "      <td>6.0</td>\n",
       "      <td>0.0</td>\n",
       "      <td>0.0</td>\n",
       "      <td>0.0</td>\n",
       "      <td>0.0</td>\n",
       "      <td>0.0</td>\n",
       "      <td>...</td>\n",
       "      <td>2</td>\n",
       "      <td>0</td>\n",
       "      <td>1</td>\n",
       "      <td>5</td>\n",
       "      <td>1653</td>\n",
       "      <td>0</td>\n",
       "      <td>0</td>\n",
       "      <td>-1</td>\n",
       "      <td>-1</td>\n",
       "      <td>-1</td>\n",
       "    </tr>\n",
       "    <tr>\n",
       "      <th>3</th>\n",
       "      <td>0.0</td>\n",
       "      <td>0.0</td>\n",
       "      <td>0.0</td>\n",
       "      <td>0.0</td>\n",
       "      <td>0.0</td>\n",
       "      <td>0.0</td>\n",
       "      <td>0.0</td>\n",
       "      <td>0.0</td>\n",
       "      <td>0.0</td>\n",
       "      <td>0.0</td>\n",
       "      <td>...</td>\n",
       "      <td>-1</td>\n",
       "      <td>0</td>\n",
       "      <td>1</td>\n",
       "      <td>7</td>\n",
       "      <td>1135</td>\n",
       "      <td>0</td>\n",
       "      <td>0</td>\n",
       "      <td>-1</td>\n",
       "      <td>-1</td>\n",
       "      <td>-1</td>\n",
       "    </tr>\n",
       "    <tr>\n",
       "      <th>4</th>\n",
       "      <td>0.0</td>\n",
       "      <td>0.0</td>\n",
       "      <td>0.0</td>\n",
       "      <td>0.0</td>\n",
       "      <td>0.0</td>\n",
       "      <td>0.0</td>\n",
       "      <td>0.0</td>\n",
       "      <td>0.0</td>\n",
       "      <td>0.0</td>\n",
       "      <td>0.0</td>\n",
       "      <td>...</td>\n",
       "      <td>-1</td>\n",
       "      <td>0</td>\n",
       "      <td>1</td>\n",
       "      <td>0</td>\n",
       "      <td>2047</td>\n",
       "      <td>1</td>\n",
       "      <td>-1</td>\n",
       "      <td>-1</td>\n",
       "      <td>-1</td>\n",
       "      <td>-1</td>\n",
       "    </tr>\n",
       "  </tbody>\n",
       "</table>\n",
       "<p>5 rows × 14890 columns</p>\n",
       "</div>"
      ],
      "text/plain": [
       "   0    1    2    3    4    5    6    7    8    9   ...   179  180  181  182  \\\n",
       "0  0.0  0.0  0.0  0.0  0.0  0.0  0.0  0.0  0.0  0.0 ...     2   -1    1    0   \n",
       "1  0.0  0.0  0.0  0.0  0.0  0.0  0.0  0.0  0.0  0.0 ...     2   -1    1   12   \n",
       "2  0.0  0.0  0.0  0.0  6.0  0.0  0.0  0.0  0.0  0.0 ...     2    0    1    5   \n",
       "3  0.0  0.0  0.0  0.0  0.0  0.0  0.0  0.0  0.0  0.0 ...    -1    0    1    7   \n",
       "4  0.0  0.0  0.0  0.0  0.0  0.0  0.0  0.0  0.0  0.0 ...    -1    0    1    0   \n",
       "\n",
       "    183  184  185  186  187  188  \n",
       "0   608    0    0   -1   -1   -1  \n",
       "1  1893    0    0   -1   -1   -1  \n",
       "2  1653    0    0   -1   -1   -1  \n",
       "3  1135    0    0   -1   -1   -1  \n",
       "4  2047    1   -1   -1   -1   -1  \n",
       "\n",
       "[5 rows x 14890 columns]"
      ]
     },
     "execution_count": 32,
     "metadata": {},
     "output_type": "execute_result"
    }
   ],
   "source": [
    "X_df_combine.head()"
   ]
  },
  {
   "cell_type": "markdown",
   "metadata": {
    "collapsed": true
   },
   "source": [
    "* 2.5 Lable Encoding"
   ]
  },
  {
   "cell_type": "code",
   "execution_count": 33,
   "metadata": {
    "collapsed": true
   },
   "outputs": [],
   "source": [
    "# deal with the lable y train data \n",
    "from sklearn.preprocessing import LabelEncoder"
   ]
  },
  {
   "cell_type": "code",
   "execution_count": 34,
   "metadata": {
    "collapsed": true
   },
   "outputs": [],
   "source": [
    "def encodeLable(y_df):\n",
    "    y = y_df.iloc[:, :].values\n",
    "    labelencoder_y = LabelEncoder()\n",
    "    y_train = labelencoder_y.fit_transform(y)\n",
    "    return y_train"
   ]
  },
  {
   "cell_type": "code",
   "execution_count": 36,
   "metadata": {
    "collapsed": false
   },
   "outputs": [
    {
     "name": "stderr",
     "output_type": "stream",
     "text": [
      "//anaconda/lib/python3.5/site-packages/sklearn/preprocessing/label.py:129: DataConversionWarning: A column-vector y was passed when a 1d array was expected. Please change the shape of y to (n_samples, ), for example using ravel().\n",
      "  y = column_or_1d(y, warn=True)\n"
     ]
    }
   ],
   "source": [
    "y_train = encodeLable(y_df)[:9999]"
   ]
  },
  {
   "cell_type": "markdown",
   "metadata": {},
   "source": [
    "### Step3: Feature Scaling"
   ]
  },
  {
   "cell_type": "code",
   "execution_count": 38,
   "metadata": {
    "collapsed": true
   },
   "outputs": [],
   "source": [
    "# Feature Scaling\n",
    "from sklearn.preprocessing import StandardScaler"
   ]
  },
  {
   "cell_type": "code",
   "execution_count": 39,
   "metadata": {
    "collapsed": true
   },
   "outputs": [],
   "source": [
    "def featureScal(X):\n",
    "    sc_X = StandardScaler()\n",
    "    X_train = sc_X.fit_transform(X)\n",
    "    return X_train\n",
    "X_std = featureScal(X)"
   ]
  },
  {
   "cell_type": "code",
   "execution_count": 40,
   "metadata": {
    "collapsed": false
   },
   "outputs": [
    {
     "data": {
      "text/plain": [
       "array([[-0.010001  , -0.03052425, -0.03520343, ..., -0.1184263 ,\n",
       "        -0.36455684, -0.12172848],\n",
       "       [-0.010001  , -0.03052425, -0.03520343, ..., -0.1184263 ,\n",
       "        -0.36455684, -0.12172848],\n",
       "       [-0.010001  , -0.03052425, -0.03520343, ..., -0.1184263 ,\n",
       "        -0.36455684, -0.12172848],\n",
       "       ..., \n",
       "       [-0.010001  , -0.03052425, -0.03520343, ..., -0.1184263 ,\n",
       "         1.21855539, -0.12172848],\n",
       "       [-0.010001  , -0.03052425, -0.03520343, ..., -0.1184263 ,\n",
       "        -0.36455684, -0.12172848],\n",
       "       [-0.010001  , -0.03052425, -0.03520343, ..., -0.1184263 ,\n",
       "        -0.36455684, -0.12172848]])"
      ]
     },
     "execution_count": 40,
     "metadata": {},
     "output_type": "execute_result"
    }
   ],
   "source": [
    "X_std"
   ]
  },
  {
   "cell_type": "code",
   "execution_count": 41,
   "metadata": {
    "collapsed": false
   },
   "outputs": [
    {
     "data": {
      "text/html": [
       "<div>\n",
       "<table border=\"1\" class=\"dataframe\">\n",
       "  <thead>\n",
       "    <tr style=\"text-align: right;\">\n",
       "      <th></th>\n",
       "      <th>0</th>\n",
       "      <th>1</th>\n",
       "      <th>2</th>\n",
       "      <th>3</th>\n",
       "      <th>4</th>\n",
       "      <th>5</th>\n",
       "      <th>6</th>\n",
       "      <th>7</th>\n",
       "      <th>8</th>\n",
       "      <th>9</th>\n",
       "      <th>...</th>\n",
       "      <th>14880</th>\n",
       "      <th>14881</th>\n",
       "      <th>14882</th>\n",
       "      <th>14883</th>\n",
       "      <th>14884</th>\n",
       "      <th>14885</th>\n",
       "      <th>14886</th>\n",
       "      <th>14887</th>\n",
       "      <th>14888</th>\n",
       "      <th>14889</th>\n",
       "    </tr>\n",
       "  </thead>\n",
       "  <tbody>\n",
       "    <tr>\n",
       "      <th>0</th>\n",
       "      <td>-0.010001</td>\n",
       "      <td>-0.030524</td>\n",
       "      <td>-0.035203</td>\n",
       "      <td>-0.014458</td>\n",
       "      <td>-0.283324</td>\n",
       "      <td>-0.064166</td>\n",
       "      <td>-0.085752</td>\n",
       "      <td>-0.028881</td>\n",
       "      <td>-0.072695</td>\n",
       "      <td>-0.033186</td>\n",
       "      <td>...</td>\n",
       "      <td>1.654065</td>\n",
       "      <td>-1.01888</td>\n",
       "      <td>0.291986</td>\n",
       "      <td>-1.632155</td>\n",
       "      <td>-0.796684</td>\n",
       "      <td>-0.929105</td>\n",
       "      <td>-0.298417</td>\n",
       "      <td>-0.118426</td>\n",
       "      <td>-0.364557</td>\n",
       "      <td>-0.121728</td>\n",
       "    </tr>\n",
       "    <tr>\n",
       "      <th>1</th>\n",
       "      <td>-0.010001</td>\n",
       "      <td>-0.030524</td>\n",
       "      <td>-0.035203</td>\n",
       "      <td>-0.014458</td>\n",
       "      <td>-0.283324</td>\n",
       "      <td>-0.064166</td>\n",
       "      <td>-0.085752</td>\n",
       "      <td>-0.028881</td>\n",
       "      <td>-0.072695</td>\n",
       "      <td>-0.033186</td>\n",
       "      <td>...</td>\n",
       "      <td>1.654065</td>\n",
       "      <td>-1.01888</td>\n",
       "      <td>0.291986</td>\n",
       "      <td>0.193237</td>\n",
       "      <td>1.379321</td>\n",
       "      <td>-0.929105</td>\n",
       "      <td>-0.298417</td>\n",
       "      <td>-0.118426</td>\n",
       "      <td>-0.364557</td>\n",
       "      <td>-0.121728</td>\n",
       "    </tr>\n",
       "    <tr>\n",
       "      <th>2</th>\n",
       "      <td>-0.010001</td>\n",
       "      <td>-0.030524</td>\n",
       "      <td>-0.035203</td>\n",
       "      <td>-0.014458</td>\n",
       "      <td>3.529533</td>\n",
       "      <td>-0.064166</td>\n",
       "      <td>-0.085752</td>\n",
       "      <td>-0.028881</td>\n",
       "      <td>-0.072695</td>\n",
       "      <td>-0.033186</td>\n",
       "      <td>...</td>\n",
       "      <td>1.654065</td>\n",
       "      <td>0.98147</td>\n",
       "      <td>0.291986</td>\n",
       "      <td>-0.871575</td>\n",
       "      <td>0.972908</td>\n",
       "      <td>-0.929105</td>\n",
       "      <td>-0.298417</td>\n",
       "      <td>-0.118426</td>\n",
       "      <td>-0.364557</td>\n",
       "      <td>-0.121728</td>\n",
       "    </tr>\n",
       "    <tr>\n",
       "      <th>3</th>\n",
       "      <td>-0.010001</td>\n",
       "      <td>-0.030524</td>\n",
       "      <td>-0.035203</td>\n",
       "      <td>-0.014458</td>\n",
       "      <td>-0.283324</td>\n",
       "      <td>-0.064166</td>\n",
       "      <td>-0.085752</td>\n",
       "      <td>-0.028881</td>\n",
       "      <td>-0.072695</td>\n",
       "      <td>-0.033186</td>\n",
       "      <td>...</td>\n",
       "      <td>-0.606287</td>\n",
       "      <td>0.98147</td>\n",
       "      <td>0.291986</td>\n",
       "      <td>-0.567343</td>\n",
       "      <td>0.095732</td>\n",
       "      <td>-0.929105</td>\n",
       "      <td>-0.298417</td>\n",
       "      <td>-0.118426</td>\n",
       "      <td>-0.364557</td>\n",
       "      <td>-0.121728</td>\n",
       "    </tr>\n",
       "    <tr>\n",
       "      <th>4</th>\n",
       "      <td>-0.010001</td>\n",
       "      <td>-0.030524</td>\n",
       "      <td>-0.035203</td>\n",
       "      <td>-0.014458</td>\n",
       "      <td>-0.283324</td>\n",
       "      <td>-0.064166</td>\n",
       "      <td>-0.085752</td>\n",
       "      <td>-0.028881</td>\n",
       "      <td>-0.072695</td>\n",
       "      <td>-0.033186</td>\n",
       "      <td>...</td>\n",
       "      <td>-0.606287</td>\n",
       "      <td>0.98147</td>\n",
       "      <td>0.291986</td>\n",
       "      <td>-1.632155</td>\n",
       "      <td>1.640103</td>\n",
       "      <td>0.969939</td>\n",
       "      <td>-1.211474</td>\n",
       "      <td>-0.118426</td>\n",
       "      <td>-0.364557</td>\n",
       "      <td>-0.121728</td>\n",
       "    </tr>\n",
       "  </tbody>\n",
       "</table>\n",
       "<p>5 rows × 14890 columns</p>\n",
       "</div>"
      ],
      "text/plain": [
       "      0         1         2         3         4         5         6      \\\n",
       "0 -0.010001 -0.030524 -0.035203 -0.014458 -0.283324 -0.064166 -0.085752   \n",
       "1 -0.010001 -0.030524 -0.035203 -0.014458 -0.283324 -0.064166 -0.085752   \n",
       "2 -0.010001 -0.030524 -0.035203 -0.014458  3.529533 -0.064166 -0.085752   \n",
       "3 -0.010001 -0.030524 -0.035203 -0.014458 -0.283324 -0.064166 -0.085752   \n",
       "4 -0.010001 -0.030524 -0.035203 -0.014458 -0.283324 -0.064166 -0.085752   \n",
       "\n",
       "      7         8         9        ...        14880    14881     14882  \\\n",
       "0 -0.028881 -0.072695 -0.033186    ...     1.654065 -1.01888  0.291986   \n",
       "1 -0.028881 -0.072695 -0.033186    ...     1.654065 -1.01888  0.291986   \n",
       "2 -0.028881 -0.072695 -0.033186    ...     1.654065  0.98147  0.291986   \n",
       "3 -0.028881 -0.072695 -0.033186    ...    -0.606287  0.98147  0.291986   \n",
       "4 -0.028881 -0.072695 -0.033186    ...    -0.606287  0.98147  0.291986   \n",
       "\n",
       "      14883     14884     14885     14886     14887     14888     14889  \n",
       "0 -1.632155 -0.796684 -0.929105 -0.298417 -0.118426 -0.364557 -0.121728  \n",
       "1  0.193237  1.379321 -0.929105 -0.298417 -0.118426 -0.364557 -0.121728  \n",
       "2 -0.871575  0.972908 -0.929105 -0.298417 -0.118426 -0.364557 -0.121728  \n",
       "3 -0.567343  0.095732 -0.929105 -0.298417 -0.118426 -0.364557 -0.121728  \n",
       "4 -1.632155  1.640103  0.969939 -1.211474 -0.118426 -0.364557 -0.121728  \n",
       "\n",
       "[5 rows x 14890 columns]"
      ]
     },
     "execution_count": 41,
     "metadata": {},
     "output_type": "execute_result"
    }
   ],
   "source": [
    "pd.DataFrame(X_std).head()"
   ]
  },
  {
   "cell_type": "markdown",
   "metadata": {
    "collapsed": true
   },
   "source": [
    "### Step4: PCA"
   ]
  },
  {
   "cell_type": "code",
   "execution_count": 42,
   "metadata": {
    "collapsed": false
   },
   "outputs": [],
   "source": [
    "def pcaPlot(X_std):\n",
    "    # 1 - Eigendecomposition - Computing Eigenvectors and Eigenvalues\n",
    "    # Covariance Matrix\n",
    "    mean_vec = np.mean(X_std, axis=0)\n",
    "    cov_mat = (X_std - mean_vec).T.dot((X_std - mean_vec)) / (X_std.shape[0]-1)\n",
    "    # 2.\n",
    "    cov_mat = np.cov(X_std.T)\n",
    "    eig_vals, eig_vecs = np.linalg.eig(cov_mat)\n",
    "    #3 sort\n",
    "    tot = sum(eig_vals)\n",
    "    var_exp = [(i / tot)*100 for i in sorted(eig_vals, reverse=True)]\n",
    "    cum_var_exp = np.cumsum(var_exp)\n",
    "    # plot explained variance ratio\n",
    "    return var_exp,cum_var_exp"
   ]
  },
  {
   "cell_type": "code",
   "execution_count": 43,
   "metadata": {
    "collapsed": true
   },
   "outputs": [],
   "source": [
    "def plotCEV(var_exp,cum_var_exp,n):\n",
    "    with plt.style.context('seaborn-whitegrid'):\n",
    "        plt.figure(figsize=(6, 4))\n",
    "\n",
    "        plt.bar(range(n), var_exp, alpha=0.5, align='center',\n",
    "            label='individual explained variance')\n",
    "        plt.step(range(n), cum_var_exp, where='mid',\n",
    "             label='cumulative explained variance')\n",
    "        plt.ylabel('Explained variance ratio')\n",
    "        plt.xlabel('Principal components')\n",
    "        plt.legend(loc='best')\n",
    "        plt.tight_layout()\n",
    "        plt.show()"
   ]
  },
  {
   "cell_type": "code",
   "execution_count": 44,
   "metadata": {
    "collapsed": true
   },
   "outputs": [],
   "source": [
    "var_exp,cum_var_exp = pcaPlot(X_std)"
   ]
  },
  {
   "cell_type": "code",
   "execution_count": 47,
   "metadata": {
    "collapsed": false
   },
   "outputs": [
    {
     "name": "stderr",
     "output_type": "stream",
     "text": [
      "//anaconda/lib/python3.5/site-packages/matplotlib/patches.py:643: ComplexWarning: Casting complex values to real discards the imaginary part\n",
      "  self._height = float(height)\n",
      "//anaconda/lib/python3.5/site-packages/matplotlib/patches.py:641: ComplexWarning: Casting complex values to real discards the imaginary part\n",
      "  self._y = float(xy[1])\n",
      "//anaconda/lib/python3.5/site-packages/numpy/core/numeric.py:482: ComplexWarning: Casting complex values to real discards the imaginary part\n",
      "  return array(a, dtype, copy=False, order=order)\n"
     ]
    },
    {
     "data": {
      "image/png": "[encoded data removed]",
      "text/plain": [
       "<matplotlib.figure.Figure at 0x1c9251e48>"
      ]
     },
     "metadata": {},
     "output_type": "display_data"
    }
   ],
   "source": [
    "plotCEV(var_exp,cum_var_exp,14890)"
   ]
  },
  {
   "cell_type": "code",
   "execution_count": 50,
   "metadata": {
    "collapsed": false
   },
   "outputs": [
    {
     "name": "stderr",
     "output_type": "stream",
     "text": [
      "//anaconda/lib/python3.5/site-packages/matplotlib/patches.py:643: ComplexWarning: Casting complex values to real discards the imaginary part\n",
      "  self._height = float(height)\n",
      "//anaconda/lib/python3.5/site-packages/matplotlib/patches.py:641: ComplexWarning: Casting complex values to real discards the imaginary part\n",
      "  self._y = float(xy[1])\n"
     ]
    },
    {
     "data": {
      "image/png": "[encoded data removed]",
      "text/plain": [
       "<matplotlib.figure.Figure at 0x1458f3dd8>"
      ]
     },
     "metadata": {},
     "output_type": "display_data"
    }
   ],
   "source": [
    "with plt.style.context('seaborn-whitegrid'):\n",
    "    plt.figure(figsize=(6, 4))\n",
    "\n",
    "    plt.bar(range(14890), var_exp, alpha=0.5, align='center',\n",
    "            label='individual explained variance')\n",
    "#     plt.step(range(212), cum_var_exp, where='mid',\n",
    "#              label='cumulative explained variance')\n",
    "    plt.ylabel('Explained variance ratio')\n",
    "    plt.xlabel('Principal components')\n",
    "    plt.legend(loc='best')\n",
    "    plt.tight_layout()\n",
    "    plt.show()"
   ]
  },
  {
   "cell_type": "code",
   "execution_count": null,
   "metadata": {
    "collapsed": true
   },
   "outputs": [],
   "source": [
    "# Correlation Matrix"
   ]
  },
  {
   "cell_type": "code",
   "execution_count": 51,
   "metadata": {
    "collapsed": true
   },
   "outputs": [],
   "source": [
    "from sklearn.decomposition import PCA"
   ]
  },
  {
   "cell_type": "code",
   "execution_count": 53,
   "metadata": {
    "collapsed": false
   },
   "outputs": [],
   "source": [
    "def DimReduce(X_std, n):\n",
    "    X = np.array(X_std)\n",
    "    pca=PCA(n_components=n)\n",
    "    pca.fit(X)\n",
    "    X_Train = DataFrame(pca.transform(X))\n",
    "    return X_Train"
   ]
  },
  {
   "cell_type": "code",
   "execution_count": 54,
   "metadata": {
    "collapsed": false
   },
   "outputs": [],
   "source": [
    "X_Train = DimReduce(X_std, 6000)"
   ]
  },
  {
   "cell_type": "code",
   "execution_count": null,
   "metadata": {
    "collapsed": true
   },
   "outputs": [],
   "source": [
    "# print(pca.explained_variance_ratio_) "
   ]
  },
  {
   "cell_type": "markdown",
   "metadata": {},
   "source": [
    "### Large dataset export"
   ]
  },
  {
   "cell_type": "code",
   "execution_count": 56,
   "metadata": {
    "collapsed": true
   },
   "outputs": [],
   "source": [
    "# Export to csv\n",
    "pd.DataFrame(X_Train).to_csv('dataset/pca_large_train.csv')"
   ]
  },
  {
   "cell_type": "code",
   "execution_count": 57,
   "metadata": {
    "collapsed": true
   },
   "outputs": [],
   "source": [
    "# Export to csv\n",
    "pd.DataFrame(y_train).to_csv('dataset/y_train_large_label.csv')"
   ]
  },
  {
   "cell_type": "code",
   "execution_count": 102,
   "metadata": {
    "collapsed": false
   },
   "outputs": [],
   "source": []
  },
  {
   "cell_type": "code",
   "execution_count": null,
   "metadata": {
    "collapsed": true
   },
   "outputs": [],
   "source": []
  },
  {
   "cell_type": "code",
   "execution_count": null,
   "metadata": {
    "collapsed": true
   },
   "outputs": [],
   "source": []
  }
 ],
 "metadata": {
  "anaconda-cloud": {},
  "kernelspec": {
   "display_name": "Python [conda root]",
   "language": "python",
   "name": "conda-root-py"
  },
  "language_info": {
   "codemirror_mode": {
    "name": "ipython",
    "version": 3
   },
   "file_extension": ".py",
   "mimetype": "text/x-python",
   "name": "python",
   "nbconvert_exporter": "python",
   "pygments_lexer": "ipython3",
   "version": "3.5.2"
  }
 },
 "nbformat": 4,
 "nbformat_minor": 1
}
