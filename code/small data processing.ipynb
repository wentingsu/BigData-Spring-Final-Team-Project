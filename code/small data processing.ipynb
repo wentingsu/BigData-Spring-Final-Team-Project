{
 "cells": [
  {
   "cell_type": "code",
   "execution_count": 254,
   "metadata": {
    "collapsed": false
   },
   "outputs": [],
   "source": [
    "import sys\n",
    "from pyspark import SparkContext, SparkConf\n",
    "import pandas as pd\n",
    "import numpy as np\n",
    "from pandas import Series, DataFrame\n",
    "import matplotlib.pyplot as plt\n",
    "import seaborn as sns"
   ]
  },
  {
   "cell_type": "code",
   "execution_count": 107,
   "metadata": {
    "collapsed": false
   },
   "outputs": [],
   "source": [
    "from scipy import stats, integrate"
   ]
  },
  {
   "cell_type": "code",
   "execution_count": 2,
   "metadata": {
    "collapsed": true
   },
   "outputs": [],
   "source": [
    "from sklearn.preprocessing import Imputer\n",
    "from sklearn.preprocessing import LabelEncoder, OneHotEncoder"
   ]
  },
  {
   "cell_type": "code",
   "execution_count": 5,
   "metadata": {
    "collapsed": true
   },
   "outputs": [],
   "source": [
    "# np.set_printoptions(threshold=np.nan)"
   ]
  },
  {
   "cell_type": "markdown",
   "metadata": {},
   "source": [
    "### Step1: Collect train data a d lable data"
   ]
  },
  {
   "cell_type": "code",
   "execution_count": 13,
   "metadata": {
    "collapsed": false
   },
   "outputs": [],
   "source": [
    "# define the function to get the train data using spark.\n",
    "def getTrainData(path):\n",
    "    train_file = sc.textFile(path)\n",
    "    traindata = train_file.map(lambda line: line.split(\"\\t\")).collect()\n",
    "    X_df = pd.DataFrame(traindata)\n",
    "    return X_df"
   ]
  },
  {
   "cell_type": "code",
   "execution_count": 270,
   "metadata": {
    "collapsed": true
   },
   "outputs": [],
   "source": [
    "# define the function to get the lable data using spark.\n",
    "def getLableData(path):\n",
    "    lable_file = sc.textFile(path)\n",
    "    labeldata = lable_file.map(lambda line: line.split(\" \")).collect()\n",
    "    y_df = pd.DataFrame(labeldata)\n",
    "    return y_df"
   ]
  },
  {
   "cell_type": "code",
   "execution_count": 271,
   "metadata": {
    "collapsed": false
   },
   "outputs": [],
   "source": [
    "# # get the small size data and lable\n",
    "# X_df = getTrainData('/Users/wentingsu/Downloads/orange_small_train.data/orange_small_train.data')\n",
    "# y_df = getLableData('/Users/wentingsu/Downloads/orange_small_train_churn.labels.txt')"
   ]
  },
  {
   "cell_type": "code",
   "execution_count": null,
   "metadata": {
    "collapsed": true
   },
   "outputs": [],
   "source": [
    "# get the small size data and lable\n",
    "X_df = getTrainData('dataset/orange_small_train.data')\n",
    "y_df = getLableData('dataset/orange_small_train_churn.labels.txt')"
   ]
  },
  {
   "cell_type": "code",
   "execution_count": 12,
   "metadata": {
    "collapsed": false
   },
   "outputs": [
    {
     "data": {
      "text/html": [
       "<div>\n",
       "<table border=\"1\" class=\"dataframe\">\n",
       "  <thead>\n",
       "    <tr style=\"text-align: right;\">\n",
       "      <th></th>\n",
       "      <th>0</th>\n",
       "      <th>1</th>\n",
       "      <th>2</th>\n",
       "      <th>3</th>\n",
       "      <th>4</th>\n",
       "      <th>5</th>\n",
       "      <th>6</th>\n",
       "      <th>7</th>\n",
       "      <th>8</th>\n",
       "      <th>9</th>\n",
       "      <th>...</th>\n",
       "      <th>220</th>\n",
       "      <th>221</th>\n",
       "      <th>222</th>\n",
       "      <th>223</th>\n",
       "      <th>224</th>\n",
       "      <th>225</th>\n",
       "      <th>226</th>\n",
       "      <th>227</th>\n",
       "      <th>228</th>\n",
       "      <th>229</th>\n",
       "    </tr>\n",
       "  </thead>\n",
       "  <tbody>\n",
       "    <tr>\n",
       "      <th>0</th>\n",
       "      <td>Var1</td>\n",
       "      <td>Var2</td>\n",
       "      <td>Var3</td>\n",
       "      <td>Var4</td>\n",
       "      <td>Var5</td>\n",
       "      <td>Var6</td>\n",
       "      <td>Var7</td>\n",
       "      <td>Var8</td>\n",
       "      <td>Var9</td>\n",
       "      <td>Var10</td>\n",
       "      <td>...</td>\n",
       "      <td>Var221</td>\n",
       "      <td>Var222</td>\n",
       "      <td>Var223</td>\n",
       "      <td>Var224</td>\n",
       "      <td>Var225</td>\n",
       "      <td>Var226</td>\n",
       "      <td>Var227</td>\n",
       "      <td>Var228</td>\n",
       "      <td>Var229</td>\n",
       "      <td>Var230</td>\n",
       "    </tr>\n",
       "    <tr>\n",
       "      <th>1</th>\n",
       "      <td></td>\n",
       "      <td></td>\n",
       "      <td></td>\n",
       "      <td></td>\n",
       "      <td></td>\n",
       "      <td>1526</td>\n",
       "      <td>7</td>\n",
       "      <td></td>\n",
       "      <td></td>\n",
       "      <td></td>\n",
       "      <td>...</td>\n",
       "      <td>oslk</td>\n",
       "      <td>fXVEsaq</td>\n",
       "      <td>jySVZNlOJy</td>\n",
       "      <td></td>\n",
       "      <td></td>\n",
       "      <td>xb3V</td>\n",
       "      <td>RAYp</td>\n",
       "      <td>F2FyR07IdsN7I</td>\n",
       "      <td></td>\n",
       "      <td></td>\n",
       "    </tr>\n",
       "    <tr>\n",
       "      <th>2</th>\n",
       "      <td></td>\n",
       "      <td></td>\n",
       "      <td></td>\n",
       "      <td></td>\n",
       "      <td></td>\n",
       "      <td>525</td>\n",
       "      <td>0</td>\n",
       "      <td></td>\n",
       "      <td></td>\n",
       "      <td></td>\n",
       "      <td>...</td>\n",
       "      <td>oslk</td>\n",
       "      <td>2Kb5FSF</td>\n",
       "      <td>LM8l689qOp</td>\n",
       "      <td></td>\n",
       "      <td></td>\n",
       "      <td>fKCe</td>\n",
       "      <td>RAYp</td>\n",
       "      <td>F2FyR07IdsN7I</td>\n",
       "      <td></td>\n",
       "      <td></td>\n",
       "    </tr>\n",
       "    <tr>\n",
       "      <th>3</th>\n",
       "      <td></td>\n",
       "      <td></td>\n",
       "      <td></td>\n",
       "      <td></td>\n",
       "      <td></td>\n",
       "      <td>5236</td>\n",
       "      <td>7</td>\n",
       "      <td></td>\n",
       "      <td></td>\n",
       "      <td></td>\n",
       "      <td>...</td>\n",
       "      <td>Al6ZaUT</td>\n",
       "      <td>NKv4yOc</td>\n",
       "      <td>jySVZNlOJy</td>\n",
       "      <td></td>\n",
       "      <td>kG3k</td>\n",
       "      <td>Qu4f</td>\n",
       "      <td>02N6s8f</td>\n",
       "      <td>ib5G6X1eUxUn6</td>\n",
       "      <td>am7c</td>\n",
       "      <td></td>\n",
       "    </tr>\n",
       "    <tr>\n",
       "      <th>4</th>\n",
       "      <td></td>\n",
       "      <td></td>\n",
       "      <td></td>\n",
       "      <td></td>\n",
       "      <td></td>\n",
       "      <td></td>\n",
       "      <td>0</td>\n",
       "      <td></td>\n",
       "      <td></td>\n",
       "      <td></td>\n",
       "      <td>...</td>\n",
       "      <td>oslk</td>\n",
       "      <td>CE7uk3u</td>\n",
       "      <td>LM8l689qOp</td>\n",
       "      <td></td>\n",
       "      <td></td>\n",
       "      <td>FSa2</td>\n",
       "      <td>RAYp</td>\n",
       "      <td>F2FyR07IdsN7I</td>\n",
       "      <td></td>\n",
       "      <td></td>\n",
       "    </tr>\n",
       "    <tr>\n",
       "      <th>5</th>\n",
       "      <td></td>\n",
       "      <td></td>\n",
       "      <td></td>\n",
       "      <td></td>\n",
       "      <td></td>\n",
       "      <td>1029</td>\n",
       "      <td>7</td>\n",
       "      <td></td>\n",
       "      <td></td>\n",
       "      <td></td>\n",
       "      <td>...</td>\n",
       "      <td>oslk</td>\n",
       "      <td>1J2cvxe</td>\n",
       "      <td>LM8l689qOp</td>\n",
       "      <td></td>\n",
       "      <td>kG3k</td>\n",
       "      <td>FSa2</td>\n",
       "      <td>RAYp</td>\n",
       "      <td>F2FyR07IdsN7I</td>\n",
       "      <td>mj86</td>\n",
       "      <td></td>\n",
       "    </tr>\n",
       "    <tr>\n",
       "      <th>6</th>\n",
       "      <td></td>\n",
       "      <td></td>\n",
       "      <td></td>\n",
       "      <td></td>\n",
       "      <td></td>\n",
       "      <td>658</td>\n",
       "      <td>7</td>\n",
       "      <td></td>\n",
       "      <td></td>\n",
       "      <td></td>\n",
       "      <td>...</td>\n",
       "      <td>zCkv</td>\n",
       "      <td>QqVuch3</td>\n",
       "      <td>LM8l689qOp</td>\n",
       "      <td></td>\n",
       "      <td></td>\n",
       "      <td>Qcbd</td>\n",
       "      <td>02N6s8f</td>\n",
       "      <td>Zy3gnGM</td>\n",
       "      <td>am7c</td>\n",
       "      <td></td>\n",
       "    </tr>\n",
       "    <tr>\n",
       "      <th>7</th>\n",
       "      <td></td>\n",
       "      <td></td>\n",
       "      <td></td>\n",
       "      <td></td>\n",
       "      <td></td>\n",
       "      <td>1680</td>\n",
       "      <td>7</td>\n",
       "      <td></td>\n",
       "      <td></td>\n",
       "      <td></td>\n",
       "      <td>...</td>\n",
       "      <td>oslk</td>\n",
       "      <td>XlgxB9z</td>\n",
       "      <td>LM8l689qOp</td>\n",
       "      <td></td>\n",
       "      <td>kG3k</td>\n",
       "      <td>FSa2</td>\n",
       "      <td>RAYp</td>\n",
       "      <td>55YFVY9</td>\n",
       "      <td>am7c</td>\n",
       "      <td></td>\n",
       "    </tr>\n",
       "    <tr>\n",
       "      <th>8</th>\n",
       "      <td></td>\n",
       "      <td></td>\n",
       "      <td></td>\n",
       "      <td></td>\n",
       "      <td></td>\n",
       "      <td>77</td>\n",
       "      <td>0</td>\n",
       "      <td></td>\n",
       "      <td></td>\n",
       "      <td></td>\n",
       "      <td>...</td>\n",
       "      <td>oslk</td>\n",
       "      <td>R2LdzOv</td>\n",
       "      <td></td>\n",
       "      <td></td>\n",
       "      <td></td>\n",
       "      <td>FSa2</td>\n",
       "      <td>RAYp</td>\n",
       "      <td>F2FyR07IdsN7I</td>\n",
       "      <td></td>\n",
       "      <td></td>\n",
       "    </tr>\n",
       "    <tr>\n",
       "      <th>9</th>\n",
       "      <td></td>\n",
       "      <td></td>\n",
       "      <td></td>\n",
       "      <td></td>\n",
       "      <td></td>\n",
       "      <td>1176</td>\n",
       "      <td>7</td>\n",
       "      <td></td>\n",
       "      <td></td>\n",
       "      <td></td>\n",
       "      <td>...</td>\n",
       "      <td>zCkv</td>\n",
       "      <td>K2SqEo9</td>\n",
       "      <td>jySVZNlOJy</td>\n",
       "      <td></td>\n",
       "      <td>kG3k</td>\n",
       "      <td>PM2D</td>\n",
       "      <td>6fzt</td>\n",
       "      <td>am14IcfM7tWLrUmRT52KtA</td>\n",
       "      <td>am7c</td>\n",
       "      <td></td>\n",
       "    </tr>\n",
       "  </tbody>\n",
       "</table>\n",
       "<p>10 rows × 230 columns</p>\n",
       "</div>"
      ],
      "text/plain": [
       "    0     1     2     3     4     5     6     7     8      9     ...    \\\n",
       "0  Var1  Var2  Var3  Var4  Var5  Var6  Var7  Var8  Var9  Var10   ...     \n",
       "1                                1526     7                      ...     \n",
       "2                                 525     0                      ...     \n",
       "3                                5236     7                      ...     \n",
       "4                                         0                      ...     \n",
       "5                                1029     7                      ...     \n",
       "6                                 658     7                      ...     \n",
       "7                                1680     7                      ...     \n",
       "8                                  77     0                      ...     \n",
       "9                                1176     7                      ...     \n",
       "\n",
       "       220      221         222     223     224     225      226  \\\n",
       "0   Var221   Var222      Var223  Var224  Var225  Var226   Var227   \n",
       "1     oslk  fXVEsaq  jySVZNlOJy                    xb3V     RAYp   \n",
       "2     oslk  2Kb5FSF  LM8l689qOp                    fKCe     RAYp   \n",
       "3  Al6ZaUT  NKv4yOc  jySVZNlOJy            kG3k    Qu4f  02N6s8f   \n",
       "4     oslk  CE7uk3u  LM8l689qOp                    FSa2     RAYp   \n",
       "5     oslk  1J2cvxe  LM8l689qOp            kG3k    FSa2     RAYp   \n",
       "6     zCkv  QqVuch3  LM8l689qOp                    Qcbd  02N6s8f   \n",
       "7     oslk  XlgxB9z  LM8l689qOp            kG3k    FSa2     RAYp   \n",
       "8     oslk  R2LdzOv                                FSa2     RAYp   \n",
       "9     zCkv  K2SqEo9  jySVZNlOJy            kG3k    PM2D     6fzt   \n",
       "\n",
       "                      227     228     229  \n",
       "0                  Var228  Var229  Var230  \n",
       "1           F2FyR07IdsN7I                  \n",
       "2           F2FyR07IdsN7I                  \n",
       "3           ib5G6X1eUxUn6    am7c          \n",
       "4           F2FyR07IdsN7I                  \n",
       "5           F2FyR07IdsN7I    mj86          \n",
       "6                 Zy3gnGM    am7c          \n",
       "7                 55YFVY9    am7c          \n",
       "8           F2FyR07IdsN7I                  \n",
       "9  am14IcfM7tWLrUmRT52KtA    am7c          \n",
       "\n",
       "[10 rows x 230 columns]"
      ]
     },
     "execution_count": 12,
     "metadata": {},
     "output_type": "execute_result"
    }
   ],
   "source": [
    "X_df.head(10)"
   ]
  },
  {
   "cell_type": "markdown",
   "metadata": {},
   "source": [
    "### Step2: Processing Missing Data"
   ]
  },
  {
   "cell_type": "markdown",
   "metadata": {},
   "source": [
    "* 2.1 dealing with String Empty Data"
   ]
  },
  {
   "cell_type": "code",
   "execution_count": 34,
   "metadata": {
    "collapsed": true
   },
   "outputs": [],
   "source": [
    "# define the function to process the string empty\n",
    "def processEmpty(X_df):\n",
    "    # deal with the string empty \n",
    "    X_index = X_df[:1].values.tolist()\n",
    "    X_df2 = X_df.T.set_index(X_index).T.drop(0)\n",
    "    X_df3 = X_df2.apply(lambda x: x.str.strip()).replace('', np.nan)\n",
    "    return X_df3"
   ]
  },
  {
   "cell_type": "code",
   "execution_count": 35,
   "metadata": {
    "collapsed": true
   },
   "outputs": [],
   "source": [
    "X_df3 = processEmpty(X_df)"
   ]
  },
  {
   "cell_type": "code",
   "execution_count": 37,
   "metadata": {
    "collapsed": false
   },
   "outputs": [
    {
     "data": {
      "text/html": [
       "<div>\n",
       "<table border=\"1\" class=\"dataframe\">\n",
       "  <thead>\n",
       "    <tr style=\"text-align: right;\">\n",
       "      <th></th>\n",
       "      <th>Var1</th>\n",
       "      <th>Var2</th>\n",
       "      <th>Var3</th>\n",
       "      <th>Var4</th>\n",
       "      <th>Var5</th>\n",
       "      <th>Var6</th>\n",
       "      <th>Var7</th>\n",
       "      <th>Var8</th>\n",
       "      <th>Var9</th>\n",
       "      <th>Var10</th>\n",
       "      <th>...</th>\n",
       "      <th>Var221</th>\n",
       "      <th>Var222</th>\n",
       "      <th>Var223</th>\n",
       "      <th>Var224</th>\n",
       "      <th>Var225</th>\n",
       "      <th>Var226</th>\n",
       "      <th>Var227</th>\n",
       "      <th>Var228</th>\n",
       "      <th>Var229</th>\n",
       "      <th>Var230</th>\n",
       "    </tr>\n",
       "  </thead>\n",
       "  <tbody>\n",
       "    <tr>\n",
       "      <th>1</th>\n",
       "      <td>NaN</td>\n",
       "      <td>NaN</td>\n",
       "      <td>NaN</td>\n",
       "      <td>NaN</td>\n",
       "      <td>NaN</td>\n",
       "      <td>1526</td>\n",
       "      <td>7</td>\n",
       "      <td>NaN</td>\n",
       "      <td>NaN</td>\n",
       "      <td>NaN</td>\n",
       "      <td>...</td>\n",
       "      <td>oslk</td>\n",
       "      <td>fXVEsaq</td>\n",
       "      <td>jySVZNlOJy</td>\n",
       "      <td>NaN</td>\n",
       "      <td>NaN</td>\n",
       "      <td>xb3V</td>\n",
       "      <td>RAYp</td>\n",
       "      <td>F2FyR07IdsN7I</td>\n",
       "      <td>NaN</td>\n",
       "      <td>NaN</td>\n",
       "    </tr>\n",
       "    <tr>\n",
       "      <th>2</th>\n",
       "      <td>NaN</td>\n",
       "      <td>NaN</td>\n",
       "      <td>NaN</td>\n",
       "      <td>NaN</td>\n",
       "      <td>NaN</td>\n",
       "      <td>525</td>\n",
       "      <td>0</td>\n",
       "      <td>NaN</td>\n",
       "      <td>NaN</td>\n",
       "      <td>NaN</td>\n",
       "      <td>...</td>\n",
       "      <td>oslk</td>\n",
       "      <td>2Kb5FSF</td>\n",
       "      <td>LM8l689qOp</td>\n",
       "      <td>NaN</td>\n",
       "      <td>NaN</td>\n",
       "      <td>fKCe</td>\n",
       "      <td>RAYp</td>\n",
       "      <td>F2FyR07IdsN7I</td>\n",
       "      <td>NaN</td>\n",
       "      <td>NaN</td>\n",
       "    </tr>\n",
       "    <tr>\n",
       "      <th>3</th>\n",
       "      <td>NaN</td>\n",
       "      <td>NaN</td>\n",
       "      <td>NaN</td>\n",
       "      <td>NaN</td>\n",
       "      <td>NaN</td>\n",
       "      <td>5236</td>\n",
       "      <td>7</td>\n",
       "      <td>NaN</td>\n",
       "      <td>NaN</td>\n",
       "      <td>NaN</td>\n",
       "      <td>...</td>\n",
       "      <td>Al6ZaUT</td>\n",
       "      <td>NKv4yOc</td>\n",
       "      <td>jySVZNlOJy</td>\n",
       "      <td>NaN</td>\n",
       "      <td>kG3k</td>\n",
       "      <td>Qu4f</td>\n",
       "      <td>02N6s8f</td>\n",
       "      <td>ib5G6X1eUxUn6</td>\n",
       "      <td>am7c</td>\n",
       "      <td>NaN</td>\n",
       "    </tr>\n",
       "    <tr>\n",
       "      <th>4</th>\n",
       "      <td>NaN</td>\n",
       "      <td>NaN</td>\n",
       "      <td>NaN</td>\n",
       "      <td>NaN</td>\n",
       "      <td>NaN</td>\n",
       "      <td>NaN</td>\n",
       "      <td>0</td>\n",
       "      <td>NaN</td>\n",
       "      <td>NaN</td>\n",
       "      <td>NaN</td>\n",
       "      <td>...</td>\n",
       "      <td>oslk</td>\n",
       "      <td>CE7uk3u</td>\n",
       "      <td>LM8l689qOp</td>\n",
       "      <td>NaN</td>\n",
       "      <td>NaN</td>\n",
       "      <td>FSa2</td>\n",
       "      <td>RAYp</td>\n",
       "      <td>F2FyR07IdsN7I</td>\n",
       "      <td>NaN</td>\n",
       "      <td>NaN</td>\n",
       "    </tr>\n",
       "    <tr>\n",
       "      <th>5</th>\n",
       "      <td>NaN</td>\n",
       "      <td>NaN</td>\n",
       "      <td>NaN</td>\n",
       "      <td>NaN</td>\n",
       "      <td>NaN</td>\n",
       "      <td>1029</td>\n",
       "      <td>7</td>\n",
       "      <td>NaN</td>\n",
       "      <td>NaN</td>\n",
       "      <td>NaN</td>\n",
       "      <td>...</td>\n",
       "      <td>oslk</td>\n",
       "      <td>1J2cvxe</td>\n",
       "      <td>LM8l689qOp</td>\n",
       "      <td>NaN</td>\n",
       "      <td>kG3k</td>\n",
       "      <td>FSa2</td>\n",
       "      <td>RAYp</td>\n",
       "      <td>F2FyR07IdsN7I</td>\n",
       "      <td>mj86</td>\n",
       "      <td>NaN</td>\n",
       "    </tr>\n",
       "  </tbody>\n",
       "</table>\n",
       "<p>5 rows × 230 columns</p>\n",
       "</div>"
      ],
      "text/plain": [
       "  Var1 Var2 Var3 Var4 Var5  Var6 Var7  Var8 Var9 Var10   ...     Var221  \\\n",
       "1  NaN  NaN  NaN  NaN  NaN  1526    7   NaN  NaN   NaN   ...       oslk   \n",
       "2  NaN  NaN  NaN  NaN  NaN   525    0   NaN  NaN   NaN   ...       oslk   \n",
       "3  NaN  NaN  NaN  NaN  NaN  5236    7   NaN  NaN   NaN   ...    Al6ZaUT   \n",
       "4  NaN  NaN  NaN  NaN  NaN   NaN    0   NaN  NaN   NaN   ...       oslk   \n",
       "5  NaN  NaN  NaN  NaN  NaN  1029    7   NaN  NaN   NaN   ...       oslk   \n",
       "\n",
       "    Var222      Var223 Var224  Var225 Var226   Var227         Var228 Var229  \\\n",
       "1  fXVEsaq  jySVZNlOJy    NaN     NaN   xb3V     RAYp  F2FyR07IdsN7I    NaN   \n",
       "2  2Kb5FSF  LM8l689qOp    NaN     NaN   fKCe     RAYp  F2FyR07IdsN7I    NaN   \n",
       "3  NKv4yOc  jySVZNlOJy    NaN    kG3k   Qu4f  02N6s8f  ib5G6X1eUxUn6   am7c   \n",
       "4  CE7uk3u  LM8l689qOp    NaN     NaN   FSa2     RAYp  F2FyR07IdsN7I    NaN   \n",
       "5  1J2cvxe  LM8l689qOp    NaN    kG3k   FSa2     RAYp  F2FyR07IdsN7I   mj86   \n",
       "\n",
       "   Var230  \n",
       "1     NaN  \n",
       "2     NaN  \n",
       "3     NaN  \n",
       "4     NaN  \n",
       "5     NaN  \n",
       "\n",
       "[5 rows x 230 columns]"
      ]
     },
     "execution_count": 37,
     "metadata": {},
     "output_type": "execute_result"
    }
   ],
   "source": [
    "X_df3.head()"
   ]
  },
  {
   "cell_type": "markdown",
   "metadata": {},
   "source": [
    "* 2.2 dealing with Numerical Missing Data"
   ]
  },
  {
   "cell_type": "code",
   "execution_count": 38,
   "metadata": {
    "collapsed": true
   },
   "outputs": [],
   "source": [
    "# Processing missing data of the numerical columns\n",
    "def ProcessMissNum(X_df3):\n",
    "    # extract the numerical colums\n",
    "    X_num_df = X_df3.ix[:, :190]\n",
    "    # drop the columns that all nan\n",
    "    X_num_df2 = X_num_df.dropna(axis=1, how = 'all')\n",
    "    # Processing missing numerical data\n",
    "    X_num = np.array(X_num_df2)\n",
    "    imputer_num = Imputer(missing_values = 'NaN', strategy = 'median', axis = 0)\n",
    "    imputer_num.fit(X_num)\n",
    "    X_num = imputer_num.transform(X_num)\n",
    "    return X_num"
   ]
  },
  {
   "cell_type": "code",
   "execution_count": 39,
   "metadata": {
    "collapsed": true
   },
   "outputs": [],
   "source": [
    "X_num = ProcessMissNum(X_df3)"
   ]
  },
  {
   "cell_type": "code",
   "execution_count": 253,
   "metadata": {
    "collapsed": false
   },
   "outputs": [
    {
     "data": {
      "text/html": [
       "<div>\n",
       "<table border=\"1\" class=\"dataframe\">\n",
       "  <thead>\n",
       "    <tr style=\"text-align: right;\">\n",
       "      <th></th>\n",
       "      <th>0</th>\n",
       "      <th>1</th>\n",
       "      <th>2</th>\n",
       "      <th>3</th>\n",
       "      <th>4</th>\n",
       "      <th>5</th>\n",
       "      <th>6</th>\n",
       "      <th>7</th>\n",
       "      <th>8</th>\n",
       "      <th>9</th>\n",
       "      <th>...</th>\n",
       "      <th>164</th>\n",
       "      <th>165</th>\n",
       "      <th>166</th>\n",
       "      <th>167</th>\n",
       "      <th>168</th>\n",
       "      <th>169</th>\n",
       "      <th>170</th>\n",
       "      <th>171</th>\n",
       "      <th>172</th>\n",
       "      <th>173</th>\n",
       "    </tr>\n",
       "  </thead>\n",
       "  <tbody>\n",
       "    <tr>\n",
       "      <th>0</th>\n",
       "      <td>0.0</td>\n",
       "      <td>0.0</td>\n",
       "      <td>0.0</td>\n",
       "      <td>0.0</td>\n",
       "      <td>0.0</td>\n",
       "      <td>1526.0</td>\n",
       "      <td>7.0</td>\n",
       "      <td>20.0</td>\n",
       "      <td>0.0</td>\n",
       "      <td>8.0</td>\n",
       "      <td>...</td>\n",
       "      <td>2431310.0</td>\n",
       "      <td>0.0</td>\n",
       "      <td>116778.0</td>\n",
       "      <td>0.0</td>\n",
       "      <td>0.0</td>\n",
       "      <td>0.0</td>\n",
       "      <td>4.0</td>\n",
       "      <td>197.64</td>\n",
       "      <td>462.0</td>\n",
       "      <td>12668.94</td>\n",
       "    </tr>\n",
       "    <tr>\n",
       "      <th>1</th>\n",
       "      <td>0.0</td>\n",
       "      <td>0.0</td>\n",
       "      <td>0.0</td>\n",
       "      <td>0.0</td>\n",
       "      <td>0.0</td>\n",
       "      <td>525.0</td>\n",
       "      <td>0.0</td>\n",
       "      <td>20.0</td>\n",
       "      <td>0.0</td>\n",
       "      <td>8.0</td>\n",
       "      <td>...</td>\n",
       "      <td>2431310.0</td>\n",
       "      <td>0.0</td>\n",
       "      <td>116778.0</td>\n",
       "      <td>0.0</td>\n",
       "      <td>0.0</td>\n",
       "      <td>0.0</td>\n",
       "      <td>4.0</td>\n",
       "      <td>197.64</td>\n",
       "      <td>270.0</td>\n",
       "      <td>12668.94</td>\n",
       "    </tr>\n",
       "    <tr>\n",
       "      <th>2</th>\n",
       "      <td>0.0</td>\n",
       "      <td>0.0</td>\n",
       "      <td>0.0</td>\n",
       "      <td>0.0</td>\n",
       "      <td>0.0</td>\n",
       "      <td>5236.0</td>\n",
       "      <td>7.0</td>\n",
       "      <td>20.0</td>\n",
       "      <td>0.0</td>\n",
       "      <td>8.0</td>\n",
       "      <td>...</td>\n",
       "      <td>2431310.0</td>\n",
       "      <td>0.0</td>\n",
       "      <td>116778.0</td>\n",
       "      <td>0.0</td>\n",
       "      <td>0.0</td>\n",
       "      <td>0.0</td>\n",
       "      <td>4.0</td>\n",
       "      <td>197.64</td>\n",
       "      <td>270.0</td>\n",
       "      <td>12668.94</td>\n",
       "    </tr>\n",
       "    <tr>\n",
       "      <th>3</th>\n",
       "      <td>0.0</td>\n",
       "      <td>0.0</td>\n",
       "      <td>0.0</td>\n",
       "      <td>0.0</td>\n",
       "      <td>0.0</td>\n",
       "      <td>861.0</td>\n",
       "      <td>0.0</td>\n",
       "      <td>20.0</td>\n",
       "      <td>0.0</td>\n",
       "      <td>8.0</td>\n",
       "      <td>...</td>\n",
       "      <td>2431310.0</td>\n",
       "      <td>0.0</td>\n",
       "      <td>116778.0</td>\n",
       "      <td>0.0</td>\n",
       "      <td>0.0</td>\n",
       "      <td>0.0</td>\n",
       "      <td>4.0</td>\n",
       "      <td>197.64</td>\n",
       "      <td>270.0</td>\n",
       "      <td>12668.94</td>\n",
       "    </tr>\n",
       "    <tr>\n",
       "      <th>4</th>\n",
       "      <td>0.0</td>\n",
       "      <td>0.0</td>\n",
       "      <td>0.0</td>\n",
       "      <td>0.0</td>\n",
       "      <td>0.0</td>\n",
       "      <td>1029.0</td>\n",
       "      <td>7.0</td>\n",
       "      <td>20.0</td>\n",
       "      <td>0.0</td>\n",
       "      <td>8.0</td>\n",
       "      <td>...</td>\n",
       "      <td>2431310.0</td>\n",
       "      <td>0.0</td>\n",
       "      <td>116778.0</td>\n",
       "      <td>0.0</td>\n",
       "      <td>0.0</td>\n",
       "      <td>0.0</td>\n",
       "      <td>4.0</td>\n",
       "      <td>197.64</td>\n",
       "      <td>270.0</td>\n",
       "      <td>12668.94</td>\n",
       "    </tr>\n",
       "  </tbody>\n",
       "</table>\n",
       "<p>5 rows × 174 columns</p>\n",
       "</div>"
      ],
      "text/plain": [
       "   0    1    2    3    4       5    6     7    8    9      ...           164  \\\n",
       "0  0.0  0.0  0.0  0.0  0.0  1526.0  7.0  20.0  0.0  8.0    ...     2431310.0   \n",
       "1  0.0  0.0  0.0  0.0  0.0   525.0  0.0  20.0  0.0  8.0    ...     2431310.0   \n",
       "2  0.0  0.0  0.0  0.0  0.0  5236.0  7.0  20.0  0.0  8.0    ...     2431310.0   \n",
       "3  0.0  0.0  0.0  0.0  0.0   861.0  0.0  20.0  0.0  8.0    ...     2431310.0   \n",
       "4  0.0  0.0  0.0  0.0  0.0  1029.0  7.0  20.0  0.0  8.0    ...     2431310.0   \n",
       "\n",
       "   165       166  167  168  169  170     171    172       173  \n",
       "0  0.0  116778.0  0.0  0.0  0.0  4.0  197.64  462.0  12668.94  \n",
       "1  0.0  116778.0  0.0  0.0  0.0  4.0  197.64  270.0  12668.94  \n",
       "2  0.0  116778.0  0.0  0.0  0.0  4.0  197.64  270.0  12668.94  \n",
       "3  0.0  116778.0  0.0  0.0  0.0  4.0  197.64  270.0  12668.94  \n",
       "4  0.0  116778.0  0.0  0.0  0.0  4.0  197.64  270.0  12668.94  \n",
       "\n",
       "[5 rows x 174 columns]"
      ]
     },
     "execution_count": 253,
     "metadata": {},
     "output_type": "execute_result"
    }
   ],
   "source": [
    "pd.DataFrame(X_num).head()"
   ]
  },
  {
   "cell_type": "markdown",
   "metadata": {},
   "source": [
    "* 2.3 Encoding categorical data"
   ]
  },
  {
   "cell_type": "code",
   "execution_count": 64,
   "metadata": {
    "collapsed": true
   },
   "outputs": [],
   "source": [
    "from ipykernel import kernelapp as app"
   ]
  },
  {
   "cell_type": "code",
   "execution_count": 58,
   "metadata": {
    "collapsed": true
   },
   "outputs": [],
   "source": [
    "# Encoding categorical data\n",
    "def ProcessMissCat(X_df3):\n",
    "    # extract the categorical colums\n",
    "    X_cat_df = X_df3.ix[:,190:]\n",
    "    # drop the columns that all nan\n",
    "    X_cat_df2 = X_cat_df.dropna(axis=1, how = 'all')\n",
    "    return X_cat_df2\n",
    "\n",
    "# call the function\n",
    "X_cat_df2 = ProcessMissCat(X_df3)\n",
    "\n",
    "# Encoding categorical data\n",
    "cols = X_cat_df2.columns\n",
    "for col in cols:\n",
    "    X_cat_df2[col] = X_cat_df2[col].astype('category')\n",
    "X_cat_df2[cols] = X_cat_df2[cols].apply(lambda x: x.cat.codes)"
   ]
  },
  {
   "cell_type": "code",
   "execution_count": 256,
   "metadata": {
    "collapsed": false
   },
   "outputs": [
    {
     "data": {
      "text/html": [
       "<div>\n",
       "<table border=\"1\" class=\"dataframe\">\n",
       "  <thead>\n",
       "    <tr style=\"text-align: right;\">\n",
       "      <th></th>\n",
       "      <th>Var191</th>\n",
       "      <th>Var192</th>\n",
       "      <th>Var193</th>\n",
       "      <th>Var194</th>\n",
       "      <th>Var195</th>\n",
       "      <th>Var196</th>\n",
       "      <th>Var197</th>\n",
       "      <th>Var198</th>\n",
       "      <th>Var199</th>\n",
       "      <th>Var200</th>\n",
       "      <th>...</th>\n",
       "      <th>Var220</th>\n",
       "      <th>Var221</th>\n",
       "      <th>Var222</th>\n",
       "      <th>Var223</th>\n",
       "      <th>Var224</th>\n",
       "      <th>Var225</th>\n",
       "      <th>Var226</th>\n",
       "      <th>Var227</th>\n",
       "      <th>Var228</th>\n",
       "      <th>Var229</th>\n",
       "    </tr>\n",
       "  </thead>\n",
       "  <tbody>\n",
       "    <tr>\n",
       "      <th>1</th>\n",
       "      <td>-1</td>\n",
       "      <td>225</td>\n",
       "      <td>25</td>\n",
       "      <td>-1</td>\n",
       "      <td>22</td>\n",
       "      <td>0</td>\n",
       "      <td>177</td>\n",
       "      <td>3302</td>\n",
       "      <td>4015</td>\n",
       "      <td>-1</td>\n",
       "      <td>...</td>\n",
       "      <td>94</td>\n",
       "      <td>4</td>\n",
       "      <td>2964</td>\n",
       "      <td>3</td>\n",
       "      <td>-1</td>\n",
       "      <td>-1</td>\n",
       "      <td>22</td>\n",
       "      <td>2</td>\n",
       "      <td>8</td>\n",
       "      <td>-1</td>\n",
       "    </tr>\n",
       "    <tr>\n",
       "      <th>2</th>\n",
       "      <td>-1</td>\n",
       "      <td>91</td>\n",
       "      <td>25</td>\n",
       "      <td>-1</td>\n",
       "      <td>22</td>\n",
       "      <td>0</td>\n",
       "      <td>13</td>\n",
       "      <td>3697</td>\n",
       "      <td>4890</td>\n",
       "      <td>-1</td>\n",
       "      <td>...</td>\n",
       "      <td>10</td>\n",
       "      <td>4</td>\n",
       "      <td>125</td>\n",
       "      <td>0</td>\n",
       "      <td>-1</td>\n",
       "      <td>-1</td>\n",
       "      <td>14</td>\n",
       "      <td>2</td>\n",
       "      <td>8</td>\n",
       "      <td>-1</td>\n",
       "    </tr>\n",
       "    <tr>\n",
       "      <th>3</th>\n",
       "      <td>-1</td>\n",
       "      <td>248</td>\n",
       "      <td>5</td>\n",
       "      <td>1</td>\n",
       "      <td>22</td>\n",
       "      <td>0</td>\n",
       "      <td>157</td>\n",
       "      <td>1686</td>\n",
       "      <td>4900</td>\n",
       "      <td>14524</td>\n",
       "      <td>...</td>\n",
       "      <td>1293</td>\n",
       "      <td>0</td>\n",
       "      <td>1610</td>\n",
       "      <td>3</td>\n",
       "      <td>-1</td>\n",
       "      <td>1</td>\n",
       "      <td>10</td>\n",
       "      <td>0</td>\n",
       "      <td>25</td>\n",
       "      <td>0</td>\n",
       "    </tr>\n",
       "    <tr>\n",
       "      <th>4</th>\n",
       "      <td>-1</td>\n",
       "      <td>269</td>\n",
       "      <td>25</td>\n",
       "      <td>-1</td>\n",
       "      <td>22</td>\n",
       "      <td>0</td>\n",
       "      <td>202</td>\n",
       "      <td>2575</td>\n",
       "      <td>362</td>\n",
       "      <td>-1</td>\n",
       "      <td>...</td>\n",
       "      <td>1444</td>\n",
       "      <td>4</td>\n",
       "      <td>817</td>\n",
       "      <td>0</td>\n",
       "      <td>-1</td>\n",
       "      <td>-1</td>\n",
       "      <td>7</td>\n",
       "      <td>2</td>\n",
       "      <td>8</td>\n",
       "      <td>-1</td>\n",
       "    </tr>\n",
       "    <tr>\n",
       "      <th>5</th>\n",
       "      <td>-1</td>\n",
       "      <td>131</td>\n",
       "      <td>25</td>\n",
       "      <td>1</td>\n",
       "      <td>22</td>\n",
       "      <td>0</td>\n",
       "      <td>208</td>\n",
       "      <td>971</td>\n",
       "      <td>2399</td>\n",
       "      <td>249</td>\n",
       "      <td>...</td>\n",
       "      <td>1731</td>\n",
       "      <td>4</td>\n",
       "      <td>65</td>\n",
       "      <td>0</td>\n",
       "      <td>-1</td>\n",
       "      <td>1</td>\n",
       "      <td>7</td>\n",
       "      <td>2</td>\n",
       "      <td>8</td>\n",
       "      <td>1</td>\n",
       "    </tr>\n",
       "  </tbody>\n",
       "</table>\n",
       "<p>5 rows × 38 columns</p>\n",
       "</div>"
      ],
      "text/plain": [
       "   Var191  Var192  Var193  Var194  Var195  Var196  Var197  Var198  Var199  \\\n",
       "1      -1     225      25      -1      22       0     177    3302    4015   \n",
       "2      -1      91      25      -1      22       0      13    3697    4890   \n",
       "3      -1     248       5       1      22       0     157    1686    4900   \n",
       "4      -1     269      25      -1      22       0     202    2575     362   \n",
       "5      -1     131      25       1      22       0     208     971    2399   \n",
       "\n",
       "   Var200   ...    Var220  Var221  Var222  Var223  Var224  Var225  Var226  \\\n",
       "1      -1   ...        94       4    2964       3      -1      -1      22   \n",
       "2      -1   ...        10       4     125       0      -1      -1      14   \n",
       "3   14524   ...      1293       0    1610       3      -1       1      10   \n",
       "4      -1   ...      1444       4     817       0      -1      -1       7   \n",
       "5     249   ...      1731       4      65       0      -1       1       7   \n",
       "\n",
       "   Var227  Var228  Var229  \n",
       "1       2       8      -1  \n",
       "2       2       8      -1  \n",
       "3       0      25       0  \n",
       "4       2       8      -1  \n",
       "5       2       8       1  \n",
       "\n",
       "[5 rows x 38 columns]"
      ]
     },
     "execution_count": 256,
     "metadata": {},
     "output_type": "execute_result"
    }
   ],
   "source": [
    "X_cat_df2.head()"
   ]
  },
  {
   "cell_type": "markdown",
   "metadata": {},
   "source": [
    "* 2.4 Combine the numerical data and categorical data."
   ]
  },
  {
   "cell_type": "code",
   "execution_count": 60,
   "metadata": {
    "collapsed": true
   },
   "outputs": [],
   "source": [
    "# Comnime the numerical columns and categorical columns\n",
    "X_df_combine = pd.concat([pd.DataFrame(X_num), pd.DataFrame(np.array(X_cat_df2))], axis=1)"
   ]
  },
  {
   "cell_type": "code",
   "execution_count": 70,
   "metadata": {
    "collapsed": true
   },
   "outputs": [],
   "source": [
    "X = X_df_combine.iloc[:, :].values"
   ]
  },
  {
   "cell_type": "code",
   "execution_count": 61,
   "metadata": {
    "collapsed": false
   },
   "outputs": [
    {
     "data": {
      "text/html": [
       "<div>\n",
       "<table border=\"1\" class=\"dataframe\">\n",
       "  <thead>\n",
       "    <tr style=\"text-align: right;\">\n",
       "      <th></th>\n",
       "      <th>0</th>\n",
       "      <th>1</th>\n",
       "      <th>2</th>\n",
       "      <th>3</th>\n",
       "      <th>4</th>\n",
       "      <th>5</th>\n",
       "      <th>6</th>\n",
       "      <th>7</th>\n",
       "      <th>8</th>\n",
       "      <th>9</th>\n",
       "      <th>...</th>\n",
       "      <th>28</th>\n",
       "      <th>29</th>\n",
       "      <th>30</th>\n",
       "      <th>31</th>\n",
       "      <th>32</th>\n",
       "      <th>33</th>\n",
       "      <th>34</th>\n",
       "      <th>35</th>\n",
       "      <th>36</th>\n",
       "      <th>37</th>\n",
       "    </tr>\n",
       "  </thead>\n",
       "  <tbody>\n",
       "    <tr>\n",
       "      <th>0</th>\n",
       "      <td>0.0</td>\n",
       "      <td>0.0</td>\n",
       "      <td>0.0</td>\n",
       "      <td>0.0</td>\n",
       "      <td>0.0</td>\n",
       "      <td>1526.0</td>\n",
       "      <td>7.0</td>\n",
       "      <td>20.0</td>\n",
       "      <td>0.0</td>\n",
       "      <td>8.0</td>\n",
       "      <td>...</td>\n",
       "      <td>94</td>\n",
       "      <td>4</td>\n",
       "      <td>2964</td>\n",
       "      <td>3</td>\n",
       "      <td>-1</td>\n",
       "      <td>-1</td>\n",
       "      <td>22</td>\n",
       "      <td>2</td>\n",
       "      <td>8</td>\n",
       "      <td>-1</td>\n",
       "    </tr>\n",
       "    <tr>\n",
       "      <th>1</th>\n",
       "      <td>0.0</td>\n",
       "      <td>0.0</td>\n",
       "      <td>0.0</td>\n",
       "      <td>0.0</td>\n",
       "      <td>0.0</td>\n",
       "      <td>525.0</td>\n",
       "      <td>0.0</td>\n",
       "      <td>20.0</td>\n",
       "      <td>0.0</td>\n",
       "      <td>8.0</td>\n",
       "      <td>...</td>\n",
       "      <td>10</td>\n",
       "      <td>4</td>\n",
       "      <td>125</td>\n",
       "      <td>0</td>\n",
       "      <td>-1</td>\n",
       "      <td>-1</td>\n",
       "      <td>14</td>\n",
       "      <td>2</td>\n",
       "      <td>8</td>\n",
       "      <td>-1</td>\n",
       "    </tr>\n",
       "    <tr>\n",
       "      <th>2</th>\n",
       "      <td>0.0</td>\n",
       "      <td>0.0</td>\n",
       "      <td>0.0</td>\n",
       "      <td>0.0</td>\n",
       "      <td>0.0</td>\n",
       "      <td>5236.0</td>\n",
       "      <td>7.0</td>\n",
       "      <td>20.0</td>\n",
       "      <td>0.0</td>\n",
       "      <td>8.0</td>\n",
       "      <td>...</td>\n",
       "      <td>1293</td>\n",
       "      <td>0</td>\n",
       "      <td>1610</td>\n",
       "      <td>3</td>\n",
       "      <td>-1</td>\n",
       "      <td>1</td>\n",
       "      <td>10</td>\n",
       "      <td>0</td>\n",
       "      <td>25</td>\n",
       "      <td>0</td>\n",
       "    </tr>\n",
       "    <tr>\n",
       "      <th>3</th>\n",
       "      <td>0.0</td>\n",
       "      <td>0.0</td>\n",
       "      <td>0.0</td>\n",
       "      <td>0.0</td>\n",
       "      <td>0.0</td>\n",
       "      <td>861.0</td>\n",
       "      <td>0.0</td>\n",
       "      <td>20.0</td>\n",
       "      <td>0.0</td>\n",
       "      <td>8.0</td>\n",
       "      <td>...</td>\n",
       "      <td>1444</td>\n",
       "      <td>4</td>\n",
       "      <td>817</td>\n",
       "      <td>0</td>\n",
       "      <td>-1</td>\n",
       "      <td>-1</td>\n",
       "      <td>7</td>\n",
       "      <td>2</td>\n",
       "      <td>8</td>\n",
       "      <td>-1</td>\n",
       "    </tr>\n",
       "    <tr>\n",
       "      <th>4</th>\n",
       "      <td>0.0</td>\n",
       "      <td>0.0</td>\n",
       "      <td>0.0</td>\n",
       "      <td>0.0</td>\n",
       "      <td>0.0</td>\n",
       "      <td>1029.0</td>\n",
       "      <td>7.0</td>\n",
       "      <td>20.0</td>\n",
       "      <td>0.0</td>\n",
       "      <td>8.0</td>\n",
       "      <td>...</td>\n",
       "      <td>1731</td>\n",
       "      <td>4</td>\n",
       "      <td>65</td>\n",
       "      <td>0</td>\n",
       "      <td>-1</td>\n",
       "      <td>1</td>\n",
       "      <td>7</td>\n",
       "      <td>2</td>\n",
       "      <td>8</td>\n",
       "      <td>1</td>\n",
       "    </tr>\n",
       "  </tbody>\n",
       "</table>\n",
       "<p>5 rows × 212 columns</p>\n",
       "</div>"
      ],
      "text/plain": [
       "    0    1    2    3    4       5    6     7    8    9  ...    28  29    30  \\\n",
       "0  0.0  0.0  0.0  0.0  0.0  1526.0  7.0  20.0  0.0  8.0 ...    94   4  2964   \n",
       "1  0.0  0.0  0.0  0.0  0.0   525.0  0.0  20.0  0.0  8.0 ...    10   4   125   \n",
       "2  0.0  0.0  0.0  0.0  0.0  5236.0  7.0  20.0  0.0  8.0 ...  1293   0  1610   \n",
       "3  0.0  0.0  0.0  0.0  0.0   861.0  0.0  20.0  0.0  8.0 ...  1444   4   817   \n",
       "4  0.0  0.0  0.0  0.0  0.0  1029.0  7.0  20.0  0.0  8.0 ...  1731   4    65   \n",
       "\n",
       "   31  32  33  34  35  36  37  \n",
       "0   3  -1  -1  22   2   8  -1  \n",
       "1   0  -1  -1  14   2   8  -1  \n",
       "2   3  -1   1  10   0  25   0  \n",
       "3   0  -1  -1   7   2   8  -1  \n",
       "4   0  -1   1   7   2   8   1  \n",
       "\n",
       "[5 rows x 212 columns]"
      ]
     },
     "execution_count": 61,
     "metadata": {},
     "output_type": "execute_result"
    }
   ],
   "source": [
    "X_df_combine.head()"
   ]
  },
  {
   "cell_type": "markdown",
   "metadata": {
    "collapsed": true
   },
   "source": [
    "* 2.5 Lable Encoding"
   ]
  },
  {
   "cell_type": "code",
   "execution_count": 66,
   "metadata": {
    "collapsed": true
   },
   "outputs": [],
   "source": [
    "# deal with the lable y train data \n",
    "from sklearn.preprocessing import LabelEncoder"
   ]
  },
  {
   "cell_type": "code",
   "execution_count": 67,
   "metadata": {
    "collapsed": true
   },
   "outputs": [],
   "source": [
    "def encodeLable(y_df):\n",
    "    y = y_df.iloc[:, :].values\n",
    "    labelencoder_y = LabelEncoder()\n",
    "    y_train = labelencoder_y.fit_transform(y)\n",
    "    return y_train"
   ]
  },
  {
   "cell_type": "code",
   "execution_count": 258,
   "metadata": {
    "collapsed": false
   },
   "outputs": [
    {
     "name": "stderr",
     "output_type": "stream",
     "text": [
      "//anaconda/lib/python3.5/site-packages/sklearn/preprocessing/label.py:129: DataConversionWarning: A column-vector y was passed when a 1d array was expected. Please change the shape of y to (n_samples, ), for example using ravel().\n",
      "  y = column_or_1d(y, warn=True)\n"
     ]
    }
   ],
   "source": [
    "y_train = encodeLable(y_df)"
   ]
  },
  {
   "cell_type": "markdown",
   "metadata": {},
   "source": [
    "### Step3: Feature Scaling"
   ]
  },
  {
   "cell_type": "code",
   "execution_count": 74,
   "metadata": {
    "collapsed": true
   },
   "outputs": [],
   "source": [
    "# Feature Scaling\n",
    "from sklearn.preprocessing import StandardScaler"
   ]
  },
  {
   "cell_type": "code",
   "execution_count": 86,
   "metadata": {
    "collapsed": true
   },
   "outputs": [],
   "source": [
    "def featureScal(X):\n",
    "    sc_X = StandardScaler()\n",
    "    X_train = sc_X.fit_transform(X)\n",
    "    return X_train\n",
    "X_std = featureScal(X)"
   ]
  },
  {
   "cell_type": "code",
   "execution_count": 87,
   "metadata": {
    "collapsed": false
   },
   "outputs": [
    {
     "data": {
      "text/plain": [
       "array([[-0.03221608, -0.00447218, -0.01561547, ..., -0.11873472,\n",
       "        -0.34422545, -0.78992218],\n",
       "       [-0.03221608, -0.00447218, -0.01561547, ..., -0.11873472,\n",
       "        -0.34422545, -0.78992218],\n",
       "       [-0.03221608, -0.00447218, -0.01561547, ..., -2.42292097,\n",
       "         2.27591992,  0.46153881],\n",
       "       ..., \n",
       "       [-0.03221608, -0.00447218, -0.01561547, ..., -0.11873472,\n",
       "         0.58053174, -0.78992218],\n",
       "       [-0.03221608, -0.00447218, -0.01561547, ..., -0.11873472,\n",
       "        -0.34422545, -0.78992218],\n",
       "       [-0.03221608, -0.00447218, -0.01561547, ..., -0.11873472,\n",
       "        -0.34422545, -0.78992218]])"
      ]
     },
     "execution_count": 87,
     "metadata": {},
     "output_type": "execute_result"
    }
   ],
   "source": [
    "X_std"
   ]
  },
  {
   "cell_type": "code",
   "execution_count": 240,
   "metadata": {
    "collapsed": false
   },
   "outputs": [
    {
     "data": {
      "text/html": [
       "<div>\n",
       "<table border=\"1\" class=\"dataframe\">\n",
       "  <thead>\n",
       "    <tr style=\"text-align: right;\">\n",
       "      <th></th>\n",
       "      <th>0</th>\n",
       "      <th>1</th>\n",
       "      <th>2</th>\n",
       "      <th>3</th>\n",
       "      <th>4</th>\n",
       "      <th>5</th>\n",
       "      <th>6</th>\n",
       "      <th>7</th>\n",
       "      <th>8</th>\n",
       "      <th>9</th>\n",
       "      <th>...</th>\n",
       "      <th>202</th>\n",
       "      <th>203</th>\n",
       "      <th>204</th>\n",
       "      <th>205</th>\n",
       "      <th>206</th>\n",
       "      <th>207</th>\n",
       "      <th>208</th>\n",
       "      <th>209</th>\n",
       "      <th>210</th>\n",
       "      <th>211</th>\n",
       "    </tr>\n",
       "  </thead>\n",
       "  <tbody>\n",
       "    <tr>\n",
       "      <th>0</th>\n",
       "      <td>-0.032216</td>\n",
       "      <td>-0.004472</td>\n",
       "      <td>-0.015615</td>\n",
       "      <td>-0.017395</td>\n",
       "      <td>-0.060072</td>\n",
       "      <td>0.098947</td>\n",
       "      <td>0.028396</td>\n",
       "      <td>-0.021218</td>\n",
       "      <td>-0.067359</td>\n",
       "      <td>-0.033587</td>\n",
       "      <td>...</td>\n",
       "      <td>-1.529703</td>\n",
       "      <td>0.014225</td>\n",
       "      <td>0.709993</td>\n",
       "      <td>2.520512</td>\n",
       "      <td>-0.129126</td>\n",
       "      <td>-0.835461</td>\n",
       "      <td>2.049586</td>\n",
       "      <td>-0.118735</td>\n",
       "      <td>-0.344225</td>\n",
       "      <td>-0.789922</td>\n",
       "    </tr>\n",
       "    <tr>\n",
       "      <th>1</th>\n",
       "      <td>-0.032216</td>\n",
       "      <td>-0.004472</td>\n",
       "      <td>-0.015615</td>\n",
       "      <td>-0.017395</td>\n",
       "      <td>-0.060072</td>\n",
       "      <td>-0.295609</td>\n",
       "      <td>-1.144997</td>\n",
       "      <td>-0.021218</td>\n",
       "      <td>-0.067359</td>\n",
       "      <td>-0.033587</td>\n",
       "      <td>...</td>\n",
       "      <td>-1.597009</td>\n",
       "      <td>0.014225</td>\n",
       "      <td>-1.688764</td>\n",
       "      <td>-0.282632</td>\n",
       "      <td>-0.129126</td>\n",
       "      <td>-0.835461</td>\n",
       "      <td>0.669891</td>\n",
       "      <td>-0.118735</td>\n",
       "      <td>-0.344225</td>\n",
       "      <td>-0.789922</td>\n",
       "    </tr>\n",
       "    <tr>\n",
       "      <th>2</th>\n",
       "      <td>-0.032216</td>\n",
       "      <td>-0.004472</td>\n",
       "      <td>-0.015615</td>\n",
       "      <td>-0.017395</td>\n",
       "      <td>-0.060072</td>\n",
       "      <td>1.561289</td>\n",
       "      <td>0.028396</td>\n",
       "      <td>-0.021218</td>\n",
       "      <td>-0.067359</td>\n",
       "      <td>-0.033587</td>\n",
       "      <td>...</td>\n",
       "      <td>-0.568992</td>\n",
       "      <td>-3.559902</td>\n",
       "      <td>-0.434042</td>\n",
       "      <td>2.520512</td>\n",
       "      <td>-0.129126</td>\n",
       "      <td>1.307021</td>\n",
       "      <td>-0.019957</td>\n",
       "      <td>-2.422921</td>\n",
       "      <td>2.275920</td>\n",
       "      <td>0.461539</td>\n",
       "    </tr>\n",
       "    <tr>\n",
       "      <th>3</th>\n",
       "      <td>-0.032216</td>\n",
       "      <td>-0.004472</td>\n",
       "      <td>-0.015615</td>\n",
       "      <td>-0.017395</td>\n",
       "      <td>-0.060072</td>\n",
       "      <td>-0.163171</td>\n",
       "      <td>-1.144997</td>\n",
       "      <td>-0.021218</td>\n",
       "      <td>-0.067359</td>\n",
       "      <td>-0.033587</td>\n",
       "      <td>...</td>\n",
       "      <td>-0.448002</td>\n",
       "      <td>0.014225</td>\n",
       "      <td>-1.104072</td>\n",
       "      <td>-0.282632</td>\n",
       "      <td>-0.129126</td>\n",
       "      <td>-0.835461</td>\n",
       "      <td>-0.537343</td>\n",
       "      <td>-0.118735</td>\n",
       "      <td>-0.344225</td>\n",
       "      <td>-0.789922</td>\n",
       "    </tr>\n",
       "    <tr>\n",
       "      <th>4</th>\n",
       "      <td>-0.032216</td>\n",
       "      <td>-0.004472</td>\n",
       "      <td>-0.015615</td>\n",
       "      <td>-0.017395</td>\n",
       "      <td>-0.060072</td>\n",
       "      <td>-0.096952</td>\n",
       "      <td>0.028396</td>\n",
       "      <td>-0.021218</td>\n",
       "      <td>-0.067359</td>\n",
       "      <td>-0.033587</td>\n",
       "      <td>...</td>\n",
       "      <td>-0.218040</td>\n",
       "      <td>0.014225</td>\n",
       "      <td>-1.739460</td>\n",
       "      <td>-0.282632</td>\n",
       "      <td>-0.129126</td>\n",
       "      <td>1.307021</td>\n",
       "      <td>-0.537343</td>\n",
       "      <td>-0.118735</td>\n",
       "      <td>-0.344225</td>\n",
       "      <td>1.713000</td>\n",
       "    </tr>\n",
       "  </tbody>\n",
       "</table>\n",
       "<p>5 rows × 212 columns</p>\n",
       "</div>"
      ],
      "text/plain": [
       "        0         1         2         3         4         5         6    \\\n",
       "0 -0.032216 -0.004472 -0.015615 -0.017395 -0.060072  0.098947  0.028396   \n",
       "1 -0.032216 -0.004472 -0.015615 -0.017395 -0.060072 -0.295609 -1.144997   \n",
       "2 -0.032216 -0.004472 -0.015615 -0.017395 -0.060072  1.561289  0.028396   \n",
       "3 -0.032216 -0.004472 -0.015615 -0.017395 -0.060072 -0.163171 -1.144997   \n",
       "4 -0.032216 -0.004472 -0.015615 -0.017395 -0.060072 -0.096952  0.028396   \n",
       "\n",
       "        7         8         9      ...          202       203       204  \\\n",
       "0 -0.021218 -0.067359 -0.033587    ...    -1.529703  0.014225  0.709993   \n",
       "1 -0.021218 -0.067359 -0.033587    ...    -1.597009  0.014225 -1.688764   \n",
       "2 -0.021218 -0.067359 -0.033587    ...    -0.568992 -3.559902 -0.434042   \n",
       "3 -0.021218 -0.067359 -0.033587    ...    -0.448002  0.014225 -1.104072   \n",
       "4 -0.021218 -0.067359 -0.033587    ...    -0.218040  0.014225 -1.739460   \n",
       "\n",
       "        205       206       207       208       209       210       211  \n",
       "0  2.520512 -0.129126 -0.835461  2.049586 -0.118735 -0.344225 -0.789922  \n",
       "1 -0.282632 -0.129126 -0.835461  0.669891 -0.118735 -0.344225 -0.789922  \n",
       "2  2.520512 -0.129126  1.307021 -0.019957 -2.422921  2.275920  0.461539  \n",
       "3 -0.282632 -0.129126 -0.835461 -0.537343 -0.118735 -0.344225 -0.789922  \n",
       "4 -0.282632 -0.129126  1.307021 -0.537343 -0.118735 -0.344225  1.713000  \n",
       "\n",
       "[5 rows x 212 columns]"
      ]
     },
     "execution_count": 240,
     "metadata": {},
     "output_type": "execute_result"
    }
   ],
   "source": [
    "pd.DataFrame(X_std).head()"
   ]
  },
  {
   "cell_type": "code",
   "execution_count": 35,
   "metadata": {
    "collapsed": false
   },
   "outputs": [],
   "source": [
    "# Export to csv\n",
    "pd.DataFrame(X_std).to_csv('X_train.csv')"
   ]
  },
  {
   "cell_type": "code",
   "execution_count": 29,
   "metadata": {
    "collapsed": true
   },
   "outputs": [],
   "source": [
    "# Export to csv\n",
    "pd.DataFrame(y_train).to_csv('y_train_label.csv')"
   ]
  },
  {
   "cell_type": "markdown",
   "metadata": {
    "collapsed": true
   },
   "source": [
    "### Step4: PCA"
   ]
  },
  {
   "cell_type": "code",
   "execution_count": 97,
   "metadata": {
    "collapsed": false
   },
   "outputs": [],
   "source": [
    "def pcaPlot(X_std):\n",
    "    # 1 - Eigendecomposition - Computing Eigenvectors and Eigenvalues\n",
    "    # Covariance Matrix\n",
    "    mean_vec = np.mean(X_std, axis=0)\n",
    "    cov_mat = (X_std - mean_vec).T.dot((X_std - mean_vec)) / (X_std.shape[0]-1)\n",
    "    # 2.\n",
    "    cov_mat = np.cov(X_std.T)\n",
    "    eig_vals, eig_vecs = np.linalg.eig(cov_mat)\n",
    "    #3 sort\n",
    "    tot = sum(eig_vals)\n",
    "    var_exp = [(i / tot)*100 for i in sorted(eig_vals, reverse=True)]\n",
    "    cum_var_exp = np.cumsum(var_exp)\n",
    "    # plot explained variance ratio\n",
    "    return var_exp,cum_var_exp"
   ]
  },
  {
   "cell_type": "code",
   "execution_count": 101,
   "metadata": {
    "collapsed": true
   },
   "outputs": [],
   "source": [
    "def plotCEV(var_exp,cum_var_exp,n):\n",
    "    with plt.style.context('seaborn-whitegrid'):\n",
    "        plt.figure(figsize=(6, 4))\n",
    "\n",
    "        plt.bar(range(n), var_exp, alpha=0.5, align='center',\n",
    "            label='individual explained variance')\n",
    "        plt.step(range(n), cum_var_exp, where='mid',\n",
    "             label='cumulative explained variance')\n",
    "        plt.ylabel('Explained variance ratio')\n",
    "        plt.xlabel('Principal components')\n",
    "        plt.legend(loc='best')\n",
    "        plt.tight_layout()\n",
    "        plt.show()"
   ]
  },
  {
   "cell_type": "code",
   "execution_count": 98,
   "metadata": {
    "collapsed": true
   },
   "outputs": [],
   "source": [
    "var_exp,cum_var_exp = pcaPlot(X_std)"
   ]
  },
  {
   "cell_type": "code",
   "execution_count": 100,
   "metadata": {
    "collapsed": false
   },
   "outputs": [
    {
     "name": "stderr",
     "output_type": "stream",
     "text": [
      "//anaconda/lib/python3.5/site-packages/matplotlib/patches.py:643: ComplexWarning: Casting complex values to real discards the imaginary part\n",
      "  self._height = float(height)\n",
      "//anaconda/lib/python3.5/site-packages/matplotlib/patches.py:641: ComplexWarning: Casting complex values to real discards the imaginary part\n",
      "  self._y = float(xy[1])\n",
      "//anaconda/lib/python3.5/site-packages/numpy/core/numeric.py:482: ComplexWarning: Casting complex values to real discards the imaginary part\n",
      "  return array(a, dtype, copy=False, order=order)\n"
     ]
    },
    {
     "data": {
      "image/png": "[encoded data removed]",
      "text/plain": [
       "<matplotlib.figure.Figure at 0x14d089c50>"
      ]
     },
     "metadata": {},
     "output_type": "display_data"
    }
   ],
   "source": [
    "plotCEV(var_exp,cum_var_exp,212)"
   ]
  },
  {
   "cell_type": "code",
   "execution_count": 95,
   "metadata": {
    "collapsed": false
   },
   "outputs": [
    {
     "name": "stderr",
     "output_type": "stream",
     "text": [
      "//anaconda/lib/python3.5/site-packages/matplotlib/patches.py:643: ComplexWarning: Casting complex values to real discards the imaginary part\n",
      "  self._height = float(height)\n",
      "//anaconda/lib/python3.5/site-packages/matplotlib/patches.py:641: ComplexWarning: Casting complex values to real discards the imaginary part\n",
      "  self._y = float(xy[1])\n"
     ]
    },
    {
     "data": {
      "image/png": "[encoded data removed]",
      "text/plain": [
       "<matplotlib.figure.Figure at 0x14ee1b518>"
      ]
     },
     "metadata": {},
     "output_type": "display_data"
    }
   ],
   "source": [
    "with plt.style.context('seaborn-whitegrid'):\n",
    "    plt.figure(figsize=(6, 4))\n",
    "\n",
    "    plt.bar(range(212), var_exp, alpha=0.5, align='center',\n",
    "            label='individual explained variance')\n",
    "#     plt.step(range(212), cum_var_exp, where='mid',\n",
    "#              label='cumulative explained variance')\n",
    "    plt.ylabel('Explained variance ratio')\n",
    "    plt.xlabel('Principal components')\n",
    "    plt.legend(loc='best')\n",
    "    plt.tight_layout()\n",
    "    plt.show()"
   ]
  },
  {
   "cell_type": "code",
   "execution_count": null,
   "metadata": {
    "collapsed": true
   },
   "outputs": [],
   "source": [
    "# Correlation Matrix"
   ]
  },
  {
   "cell_type": "code",
   "execution_count": 89,
   "metadata": {
    "collapsed": true
   },
   "outputs": [],
   "source": [
    "from sklearn.decomposition import PCA"
   ]
  },
  {
   "cell_type": "code",
   "execution_count": 262,
   "metadata": {
    "collapsed": false
   },
   "outputs": [],
   "source": [
    "def DimReduce(X_std, n):\n",
    "    X = np.array(X_std)\n",
    "    pca=PCA(n_components=n)\n",
    "    pca.fit(X)\n",
    "    X_Train = DataFrame(pca.transform(X))\n",
    "    return X_Train"
   ]
  },
  {
   "cell_type": "code",
   "execution_count": 263,
   "metadata": {
    "collapsed": false
   },
   "outputs": [],
   "source": [
    "X_Train = DimReduce(X_std, 150)"
   ]
  },
  {
   "cell_type": "code",
   "execution_count": null,
   "metadata": {
    "collapsed": true
   },
   "outputs": [],
   "source": [
    "# print(pca.explained_variance_ratio_) "
   ]
  },
  {
   "cell_type": "markdown",
   "metadata": {},
   "source": [
    "### Small dataset export"
   ]
  },
  {
   "cell_type": "code",
   "execution_count": null,
   "metadata": {
    "collapsed": true
   },
   "outputs": [],
   "source": [
    "# Export to csv\n",
    "pd.DataFrame(X_std).to_csv('dataset/X_train.csv')"
   ]
  },
  {
   "cell_type": "code",
   "execution_count": null,
   "metadata": {
    "collapsed": true
   },
   "outputs": [],
   "source": [
    "# Export to csv\n",
    "pd.DataFrame(y_train).to_csv('dataset/y_train_label.csv')"
   ]
  },
  {
   "cell_type": "code",
   "execution_count": 102,
   "metadata": {
    "collapsed": false
   },
   "outputs": [],
   "source": []
  },
  {
   "cell_type": "code",
   "execution_count": null,
   "metadata": {
    "collapsed": true
   },
   "outputs": [],
   "source": []
  },
  {
   "cell_type": "code",
   "execution_count": null,
   "metadata": {
    "collapsed": true
   },
   "outputs": [],
   "source": []
  }
 ],
 "metadata": {
  "anaconda-cloud": {},
  "kernelspec": {
   "display_name": "Python [conda root]",
   "language": "python",
   "name": "conda-root-py"
  },
  "language_info": {
   "codemirror_mode": {
    "name": "ipython",
    "version": 3
   },
   "file_extension": ".py",
   "mimetype": "text/x-python",
   "name": "python",
   "nbconvert_exporter": "python",
   "pygments_lexer": "ipython3",
   "version": "3.5.2"
  }
 },
 "nbformat": 4,
 "nbformat_minor": 1
}
